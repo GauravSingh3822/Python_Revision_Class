{
 "cells": [
  {
   "cell_type": "markdown",
   "id": "058f8305-423a-4638-b914-8cf8d038a404",
   "metadata": {},
   "source": [
    "# Exception Handling"
   ]
  },
  {
   "cell_type": "markdown",
   "id": "0a3d92dc-0620-46d8-80fc-ac9b8412a7a8",
   "metadata": {},
   "source": [
    "### Try and Except-Exception Handling\n",
    "### Exception handling is use handle the error during debugging our code"
   ]
  },
  {
   "cell_type": "code",
   "execution_count": 1,
   "id": "772dd676-3aea-4214-8b96-7866c08434e9",
   "metadata": {},
   "outputs": [
    {
     "name": "stdout",
     "output_type": "stream",
     "text": [
      "21.0\n",
      "3.5\n"
     ]
    },
    {
     "ename": "ZeroDivisionError",
     "evalue": "division by zero",
     "output_type": "error",
     "traceback": [
      "\u001b[0;31m---------------------------------------------------------------------------\u001b[0m",
      "\u001b[0;31mZeroDivisionError\u001b[0m                         Traceback (most recent call last)",
      "Cell \u001b[0;32mIn[1], line 6\u001b[0m\n\u001b[1;32m      4\u001b[0m \u001b[38;5;28mprint\u001b[39m(spam(\u001b[38;5;241m2\u001b[39m))\n\u001b[1;32m      5\u001b[0m \u001b[38;5;28mprint\u001b[39m(spam(\u001b[38;5;241m12\u001b[39m))\n\u001b[0;32m----> 6\u001b[0m \u001b[38;5;28mprint\u001b[39m(\u001b[43mspam\u001b[49m\u001b[43m(\u001b[49m\u001b[38;5;241;43m0\u001b[39;49m\u001b[43m)\u001b[49m)\n\u001b[1;32m      7\u001b[0m \u001b[38;5;28mprint\u001b[39m(spam(\u001b[38;5;241m7\u001b[39m))\n",
      "Cell \u001b[0;32mIn[1], line 2\u001b[0m, in \u001b[0;36mspam\u001b[0;34m(divideBy)\u001b[0m\n\u001b[1;32m      1\u001b[0m \u001b[38;5;28;01mdef\u001b[39;00m \u001b[38;5;21mspam\u001b[39m(divideBy) :\n\u001b[0;32m----> 2\u001b[0m     \u001b[38;5;28;01mreturn\u001b[39;00m \u001b[38;5;241;43m42\u001b[39;49m\u001b[38;5;241;43m/\u001b[39;49m\u001b[43mdivideBy\u001b[49m\n",
      "\u001b[0;31mZeroDivisionError\u001b[0m: division by zero"
     ]
    }
   ],
   "source": [
    "def spam(divideBy) :\n",
    "    return 42/divideBy\n",
    "\n",
    "print(spam(2))\n",
    "print(spam(12))\n",
    "print(spam(0))\n",
    "print(spam(7))\n",
    "    "
   ]
  },
  {
   "cell_type": "code",
   "execution_count": 2,
   "id": "75636cfe-e8fe-480e-a718-5e0394ee15bc",
   "metadata": {},
   "outputs": [],
   "source": [
    "## That's we need Exception handling concept for our coding "
   ]
  },
  {
   "cell_type": "code",
   "execution_count": 3,
   "id": "bf9f261b-a430-4862-8c56-e904b275132c",
   "metadata": {},
   "outputs": [
    {
     "name": "stdout",
     "output_type": "stream",
     "text": [
      "21.0\n",
      "3.5\n",
      "Error : You cannot divide by zero\n",
      "None\n",
      "6.0\n"
     ]
    }
   ],
   "source": [
    "def spam(DivideBy):\n",
    "    try :\n",
    "        return (42/DivideBy)\n",
    "    except ZeroDivisionError :\n",
    "        print(\"Error : You cannot divide by zero\")\n",
    "        \n",
    "print(spam(2))\n",
    "print(spam(12))\n",
    "print(spam(0))\n",
    "print(spam(7))"
   ]
  },
  {
   "cell_type": "code",
   "execution_count": 4,
   "id": "2d5b1a4e-754a-4b0b-8f6d-5cd35d74d048",
   "metadata": {},
   "outputs": [
    {
     "name": "stdout",
     "output_type": "stream",
     "text": [
      "\n"
     ]
    },
    {
     "data": {
      "text/plain": [
       "NoneType"
      ]
     },
     "execution_count": 4,
     "metadata": {},
     "output_type": "execute_result"
    }
   ],
   "source": [
    "type(print())"
   ]
  },
  {
   "cell_type": "markdown",
   "id": "91fc814c-3051-4458-a794-5f752cd513d2",
   "metadata": {},
   "source": [
    "## Two more block in Exception handling ...when try is sucessfully excuted then else block is excuted  and finally always run .....Finally preference first when no error occur..."
   ]
  },
  {
   "cell_type": "code",
   "execution_count": 5,
   "id": "a7ed072a-95d5-46d6-87c2-efc63c3efa91",
   "metadata": {},
   "outputs": [],
   "source": [
    "def spam(divideBy):\n",
    "    try :\n",
    "        return (42/divideBy)\n",
    "    except ZeroDivisionError :\n",
    "        print(\"Error :You cannot divide bt Zero\")\n",
    "    else :\n",
    "        print(\"Try Block is run sucessfully\")\n",
    "    finally :\n",
    "        print(\"THis will run irrespective of try or except being excuted sucessfully\")"
   ]
  },
  {
   "cell_type": "code",
   "execution_count": 6,
   "id": "c1fc9daf-7acc-4534-a23f-bf53f74d5008",
   "metadata": {},
   "outputs": [
    {
     "name": "stdout",
     "output_type": "stream",
     "text": [
      "THis will run irrespective of try or except being excuted sucessfully\n",
      "21.0\n"
     ]
    }
   ],
   "source": [
    "print(spam(2))"
   ]
  },
  {
   "cell_type": "code",
   "execution_count": 7,
   "id": "a8f46258-320d-482a-946d-8790bfdd7336",
   "metadata": {},
   "outputs": [
    {
     "name": "stdout",
     "output_type": "stream",
     "text": [
      "THis will run irrespective of try or except being excuted sucessfully\n",
      "3.5\n"
     ]
    }
   ],
   "source": [
    "print(spam(12))"
   ]
  },
  {
   "cell_type": "code",
   "execution_count": 8,
   "id": "08b0bcd6-e923-47d6-a5cd-4c51ef22c190",
   "metadata": {},
   "outputs": [
    {
     "name": "stdout",
     "output_type": "stream",
     "text": [
      "Error :You cannot divide bt Zero\n",
      "THis will run irrespective of try or except being excuted sucessfully\n",
      "None\n"
     ]
    }
   ],
   "source": [
    "print(spam(0))"
   ]
  },
  {
   "cell_type": "markdown",
   "id": "5093624f-1e36-4aa2-bedd-ed629d0c8af2",
   "metadata": {},
   "source": [
    "### File Handling"
   ]
  },
  {
   "cell_type": "code",
   "execution_count": 9,
   "id": "dae3612b-d7a8-4bbd-910c-a64842c6ffa8",
   "metadata": {},
   "outputs": [],
   "source": [
    "import os "
   ]
  },
  {
   "cell_type": "code",
   "execution_count": 10,
   "id": "5ed19afe-afa2-40f8-a2c3-2df21148b8f1",
   "metadata": {},
   "outputs": [
    {
     "data": {
      "text/plain": [
       "'/home/jovyan/work/Python_Revision_Class'"
      ]
     },
     "execution_count": 10,
     "metadata": {},
     "output_type": "execute_result"
    }
   ],
   "source": [
    "os.getcwd()#------> get current work directory"
   ]
  },
  {
   "cell_type": "code",
   "execution_count": 11,
   "id": "3a188cf9-fd0c-4571-9bce-23e134f8795d",
   "metadata": {},
   "outputs": [],
   "source": [
    "os.chdir('/home/jovyan/work/Python_Revision_Class/Exception_handling')##chdir--->Change Directory"
   ]
  },
  {
   "cell_type": "code",
   "execution_count": 14,
   "id": "ad940c85-e77b-4d06-8311-3974d12f4288",
   "metadata": {},
   "outputs": [
    {
     "data": {
      "text/plain": [
       "'/home/jovyan/work/Python_Revision_Class/Exception_handling'"
      ]
     },
     "execution_count": 14,
     "metadata": {},
     "output_type": "execute_result"
    }
   ],
   "source": [
    "os.getcwd()"
   ]
  },
  {
   "cell_type": "code",
   "execution_count": 15,
   "id": "5e02f187-1cd6-415f-8c89-9eae835ac53b",
   "metadata": {},
   "outputs": [],
   "source": [
    "os.mkdir(\"22ndJine23\")##mkdir--->make Directory"
   ]
  },
  {
   "cell_type": "code",
   "execution_count": 19,
   "id": "ab53ec13-d986-47bc-b34f-9f871d0a7ba3",
   "metadata": {},
   "outputs": [],
   "source": [
    "try :\n",
    "    f=open('test.txt','w')## w---->write mode\n",
    "    f.write(\"This is a good day to lean Data Science\")\n",
    "    f.close()\n",
    "except OSError :\n",
    "    print(\"Error : THis is OSError\")"
   ]
  },
  {
   "cell_type": "code",
   "execution_count": 20,
   "id": "9dbf662c-246d-49b5-88e7-3a16bd9438ce",
   "metadata": {},
   "outputs": [
    {
     "name": "stdout",
     "output_type": "stream",
     "text": [
      "This is a good day to lean Data Science\n"
     ]
    }
   ],
   "source": [
    "with open('test.txt','r') as filename :\n",
    "    print(filename.read())"
   ]
  },
  {
   "cell_type": "code",
   "execution_count": 21,
   "id": "aa7b3ffa-d95f-4d2f-8ba3-b69ac813ad7e",
   "metadata": {},
   "outputs": [
    {
     "ename": "ValueError",
     "evalue": "I/O operation on closed file.",
     "output_type": "error",
     "traceback": [
      "\u001b[0;31m---------------------------------------------------------------------------\u001b[0m",
      "\u001b[0;31mValueError\u001b[0m                                Traceback (most recent call last)",
      "Cell \u001b[0;32mIn[21], line 1\u001b[0m\n\u001b[0;32m----> 1\u001b[0m \u001b[38;5;28mprint\u001b[39m(\u001b[43mfilename\u001b[49m\u001b[38;5;241;43m.\u001b[39;49m\u001b[43mread\u001b[49m\u001b[43m(\u001b[49m\u001b[43m)\u001b[49m)\n",
      "\u001b[0;31mValueError\u001b[0m: I/O operation on closed file."
     ]
    }
   ],
   "source": [
    "print(filename.read())"
   ]
  },
  {
   "cell_type": "code",
   "execution_count": 22,
   "id": "48a5c92d-980c-49b1-b890-d00b2fd6730e",
   "metadata": {},
   "outputs": [
    {
     "data": {
      "text/plain": [
       "'This is a good day to lean Data Science'"
      ]
     },
     "execution_count": 22,
     "metadata": {},
     "output_type": "execute_result"
    }
   ],
   "source": [
    "f=open('test.txt','r')\n",
    "f.read()"
   ]
  },
  {
   "cell_type": "code",
   "execution_count": 23,
   "id": "aadcd1b3-1b65-452f-9388-091e05c0f74b",
   "metadata": {},
   "outputs": [
    {
     "data": {
      "text/plain": [
       "0"
      ]
     },
     "execution_count": 23,
     "metadata": {},
     "output_type": "execute_result"
    }
   ],
   "source": [
    "f.seek(0)##Seek means ---> Ja ke dekho"
   ]
  },
  {
   "cell_type": "code",
   "execution_count": 24,
   "id": "672a15f3-4ed9-4cbe-9066-42171712745c",
   "metadata": {},
   "outputs": [
    {
     "data": {
      "text/plain": [
       "'This is a good day to lean Data Science'"
      ]
     },
     "execution_count": 24,
     "metadata": {},
     "output_type": "execute_result"
    }
   ],
   "source": [
    "f.read()"
   ]
  },
  {
   "cell_type": "code",
   "execution_count": 25,
   "id": "e0f7a17d-644c-4627-b463-e29ec359e7b7",
   "metadata": {},
   "outputs": [
    {
     "data": {
      "text/plain": [
       "''"
      ]
     },
     "execution_count": 25,
     "metadata": {},
     "output_type": "execute_result"
    }
   ],
   "source": [
    "f.read()"
   ]
  },
  {
   "cell_type": "code",
   "execution_count": 26,
   "id": "a67f2113-00bf-4685-8716-008fd9c2bbe9",
   "metadata": {},
   "outputs": [
    {
     "data": {
      "text/plain": [
       "5"
      ]
     },
     "execution_count": 26,
     "metadata": {},
     "output_type": "execute_result"
    }
   ],
   "source": [
    "f.seek(5)"
   ]
  },
  {
   "cell_type": "code",
   "execution_count": 27,
   "id": "6ed781a0-6dc4-4c9d-b72b-822df2911777",
   "metadata": {},
   "outputs": [
    {
     "data": {
      "text/plain": [
       "'is a good day to lean Data Science'"
      ]
     },
     "execution_count": 27,
     "metadata": {},
     "output_type": "execute_result"
    }
   ],
   "source": [
    "f.read()"
   ]
  },
  {
   "cell_type": "code",
   "execution_count": 28,
   "id": "2a329c65-1b77-4a2c-968b-4dd794b11be0",
   "metadata": {},
   "outputs": [],
   "source": [
    "f=open('test.txt','a')\n",
    "f.write('This is another Sentence\\n')\n",
    "f.close()"
   ]
  },
  {
   "cell_type": "code",
   "execution_count": 29,
   "id": "747e8fbc-7a25-4acf-a8eb-0522b3141518",
   "metadata": {},
   "outputs": [
    {
     "data": {
      "text/plain": [
       "'This is a good day to lean Data ScienceThis is another Sentence\\n'"
      ]
     },
     "execution_count": 29,
     "metadata": {},
     "output_type": "execute_result"
    }
   ],
   "source": [
    "f=open(\"test.txt\",\"r\")\n",
    "f.read()"
   ]
  },
  {
   "cell_type": "markdown",
   "id": "5531cbf5-1050-42ee-9e1f-9df842caa275",
   "metadata": {},
   "source": [
    "## Crearte a dummy csv datase"
   ]
  },
  {
   "cell_type": "code",
   "execution_count": 30,
   "id": "b5ed830e-c59b-492b-a5c9-baa3dcc7b02e",
   "metadata": {},
   "outputs": [],
   "source": [
    "import csv\n",
    "data = [\n",
    "    [\"company_name\",\"renvenu\",\"expense\"],\n",
    "    [\"Apple\",\"1000000000\",\"100000000000\"],\n",
    "    [\"Googke\",\"200000000\",\"3000000000000\"]\n",
    "]\n",
    "\n",
    "f=open(\"data.csv\",\"w\",newline=\"\")\n",
    "writer=csv.writer(f)\n",
    "writer.writerows(data)\n",
    "f.close()"
   ]
  },
  {
   "cell_type": "code",
   "execution_count": 31,
   "id": "3d83f174-b388-4e07-8ff0-094b6ba753c0",
   "metadata": {},
   "outputs": [],
   "source": [
    "new_data = [\"Microsoft\",\"500000000\",\"700000000\"]"
   ]
  },
  {
   "cell_type": "code",
   "execution_count": 32,
   "id": "0aec4e16-0db2-4555-b089-fb4cc365918e",
   "metadata": {},
   "outputs": [],
   "source": [
    "f = open(\"data.csv\",'a',newline=\"\")\n",
    "writer=csv.writer(f)\n",
    "writer.writerow(new_data)\n",
    "f.close()"
   ]
  },
  {
   "cell_type": "code",
   "execution_count": 33,
   "id": "2c24db3e-1344-49e6-8051-a5f7344e3999",
   "metadata": {},
   "outputs": [],
   "source": [
    "new_data1 = [\"Twitter\",\"500000000\",\"700000000\"]\n"
   ]
  },
  {
   "cell_type": "code",
   "execution_count": 34,
   "id": "d15146cd-0543-4517-9366-44a617ff6513",
   "metadata": {},
   "outputs": [],
   "source": [
    "f = open(\"data.csv\",'a',newline=\"\")\n",
    "writer=csv.writer(f)\n",
    "writer.writerow(new_data1)\n",
    "f.close()"
   ]
  },
  {
   "cell_type": "code",
   "execution_count": 35,
   "id": "f4f002f3-6127-4eba-9b21-56fd8a285fe7",
   "metadata": {},
   "outputs": [],
   "source": [
    "f = open(\"data.csv\",'a')\n",
    "writer=csv.writer(f)\n",
    "writer.writerow(new_data1)\n",
    "f.close()"
   ]
  },
  {
   "cell_type": "markdown",
   "id": "2b08fc86-ebc6-4fb3-aaa1-e9451d7081f4",
   "metadata": {},
   "source": [
    "## Use Stack-Overflow for every doudts"
   ]
  },
  {
   "cell_type": "markdown",
   "id": "d3fdfb6c-13ec-43ca-bb02-1d7f2f70339a",
   "metadata": {},
   "source": [
    "document----->test---->projects"
   ]
  },
  {
   "cell_type": "code",
   "execution_count": 36,
   "id": "b31ef365-87eb-48bc-9407-906a10d402d4",
   "metadata": {},
   "outputs": [
    {
     "data": {
      "text/plain": [
       "'document/test/Project'"
      ]
     },
     "execution_count": 36,
     "metadata": {},
     "output_type": "execute_result"
    }
   ],
   "source": [
    "os.path.join('document','test','Project')## Creating path folder this is very vety easy to create a path "
   ]
  },
  {
   "cell_type": "code",
   "execution_count": 37,
   "id": "d03905bf-7226-4401-8931-2a42e202ac6b",
   "metadata": {},
   "outputs": [
    {
     "data": {
      "text/plain": [
       "'/home/jovyan/work/Python_Revision_Class/Exception_handling'"
      ]
     },
     "execution_count": 37,
     "metadata": {},
     "output_type": "execute_result"
    }
   ],
   "source": [
    "os.getcwd()"
   ]
  },
  {
   "cell_type": "code",
   "execution_count": 38,
   "id": "97b97ffe-f227-4bea-82c8-8331067f6355",
   "metadata": {},
   "outputs": [],
   "source": [
    "os.mkdir(\"Gaurav\")##create--->Folder"
   ]
  },
  {
   "cell_type": "code",
   "execution_count": 39,
   "id": "4867c47d-4ef5-44f4-bc9d-ad489f87d705",
   "metadata": {},
   "outputs": [],
   "source": [
    "os.rmdir(\"Gaurav\")## Remove--->Folder"
   ]
  },
  {
   "cell_type": "code",
   "execution_count": 40,
   "id": "62d3c5ad-9fd9-49e3-aff5-da12df1b1cd0",
   "metadata": {},
   "outputs": [
    {
     "name": "stdout",
     "output_type": "stream",
     "text": [
      "Your errro  message is a fallow : [Errno 2] No such file or directory: 'work/Python_Revision_Class/Exception_handling/test1.txt'\n"
     ]
    }
   ],
   "source": [
    "try :\n",
    "    os.remove('work/Python_Revision_Class/Exception_handling/test1.txt')\n",
    "except Exception as e :\n",
    "    print(\"Your errro  message is a fallow :\",e)\n",
    "else :\n",
    "    print(\"File deleted\")"
   ]
  },
  {
   "cell_type": "code",
   "execution_count": 41,
   "id": "2032bae1-f846-4c90-be06-9d96a4905338",
   "metadata": {},
   "outputs": [
    {
     "name": "stdout",
     "output_type": "stream",
     "text": [
      "File deleted\n"
     ]
    }
   ],
   "source": [
    "try :\n",
    "    os.remove('/home/jovyan/work/Python_Revision_Class/Exception_handling/test.txt')\n",
    "except Exception as e :\n",
    "    print(e)\n",
    "else :\n",
    "    print(\"File deleted\")"
   ]
  },
  {
   "cell_type": "code",
   "execution_count": 42,
   "id": "0330f42f-4ed3-4d92-a82c-f398c7d6d1d0",
   "metadata": {},
   "outputs": [],
   "source": [
    "def divide(x):\n",
    "    try :\n",
    "        result=42/x\n",
    "    except ZeroDivisionError :\n",
    "        print(\"Sorry ! You are divide by zero\")\n",
    "    else :\n",
    "        print(\"Yeah ! Your answer is :\",result)\n",
    "    finally :\n",
    "        print(\"This is always excuted\")"
   ]
  },
  {
   "cell_type": "code",
   "execution_count": 43,
   "id": "3089a434-ebb5-4bde-bdc1-700e16d971c9",
   "metadata": {},
   "outputs": [
    {
     "name": "stdout",
     "output_type": "stream",
     "text": [
      "Yeah ! Your answer is : 14.0\n",
      "This is always excuted\n",
      "Yeah ! Your answer is : 1.3125\n",
      "This is always excuted\n"
     ]
    }
   ],
   "source": [
    "divide(3)\n",
    "divide(32)"
   ]
  },
  {
   "cell_type": "code",
   "execution_count": null,
   "id": "7e7f7d3b-23bf-44ee-9383-995d1a490333",
   "metadata": {},
   "outputs": [],
   "source": [
    "os.cndir()"
   ]
  },
  {
   "cell_type": "code",
   "execution_count": 44,
   "id": "53e01217-42bb-4e13-bb58-59e61fd01ebd",
   "metadata": {},
   "outputs": [
    {
     "data": {
      "text/plain": [
       "['.ipynb_checkpoints', '22ndJine23', 'data.csv']"
      ]
     },
     "execution_count": 44,
     "metadata": {},
     "output_type": "execute_result"
    }
   ],
   "source": [
    "os.listdir(os.getcwd())"
   ]
  },
  {
   "cell_type": "markdown",
   "id": "3fad6175-dd3e-4e82-bf47-20f1131427af",
   "metadata": {},
   "source": [
    "#### Class Work\n",
    "Create a Folder named \"Project\" and under that folder, create 3 sub folders- Train, Validation and Test. Inside these sub folders there will be 2 folders cat and dog. Copy 10 images of each category to train cat and dog, 5 images to val and 5 images to test"
   ]
  },
  {
   "cell_type": "code",
   "execution_count": 55,
   "id": "212824b4-b4a8-468a-9fa3-8824fec5d37b",
   "metadata": {},
   "outputs": [
    {
     "name": "stdout",
     "output_type": "stream",
     "text": [
      "Created train folder: /home/jovyan/work/Project/train\n",
      "Created validation folder: /home/jovyan/work/Project/validation\n",
      "Created test folder: /home/jovyan/work/Project/test\n",
      "Copied and renamed file 'cat.2430.jpg' to train/cat/cat_1.jpg\n",
      "Copied and renamed file 'cat.2433.jpg' to train/cat/cat_2.jpg\n",
      "Copied and renamed file 'cat.2413.jpg' to train/cat/cat_3.jpg\n",
      "Copied and renamed file 'cat.2414.jpg' to train/cat/cat_4.jpg\n",
      "Copied and renamed file 'cat.2417.jpg' to train/cat/cat_5.jpg\n",
      "Copied and renamed file 'cat.2432.jpg' to train/cat/cat_6.jpg\n",
      "Copied and renamed file 'cat.2415.jpg' to train/cat/cat_7.jpg\n",
      "Copied and renamed file 'cat.2429.jpg' to train/cat/cat_8.jpg\n",
      "Copied and renamed file 'cat.2423.jpg' to train/cat/cat_9.jpg\n",
      "Copied and renamed file 'cat.2416.jpg' to train/cat/cat_10.jpg\n",
      "Copied and renamed file 'dog.2422.jpg' to train/dog/dog_1.jpg\n",
      "Copied and renamed file 'dog.2428.jpg' to train/dog/dog_2.jpg\n",
      "Copied and renamed file 'dog.2417.jpg' to train/dog/dog_3.jpg\n",
      "Copied and renamed file 'dog.2427.jpg' to train/dog/dog_4.jpg\n",
      "Copied and renamed file 'dog.2425.jpg' to train/dog/dog_5.jpg\n",
      "Copied and renamed file 'dog.2418.jpg' to train/dog/dog_6.jpg\n",
      "Copied and renamed file 'dog.2423.jpg' to train/dog/dog_7.jpg\n",
      "Copied and renamed file 'dog.2404.jpg' to train/dog/dog_8.jpg\n",
      "Copied and renamed file 'dog.2408.jpg' to train/dog/dog_9.jpg\n",
      "Copied and renamed file 'dog.2431.jpg' to train/dog/dog_10.jpg\n",
      "Copied and renamed file 'cat.2435.jpg' to validation/cat/cat_1.jpg\n",
      "Copied and renamed file 'cat.2434.jpg' to validation/cat/cat_2.jpg\n",
      "Copied and renamed file 'cat.2408.jpg' to validation/cat/cat_3.jpg\n",
      "Copied and renamed file 'cat.2427.jpg' to validation/cat/cat_4.jpg\n",
      "Copied and renamed file 'cat.2428.jpg' to validation/cat/cat_5.jpg\n",
      "Copied and renamed file 'dog.2410.jpg' to validation/dog/dog_1.jpg\n",
      "Copied and renamed file 'dog.2409.jpg' to validation/dog/dog_2.jpg\n",
      "Copied and renamed file 'dog.2420.jpg' to validation/dog/dog_3.jpg\n",
      "Copied and renamed file 'dog.2407.jpg' to validation/dog/dog_4.jpg\n",
      "Copied and renamed file 'dog.2402.jpg' to validation/dog/dog_5.jpg\n",
      "Copied and renamed file 'cat.2410.jpg' to test/cat/cat_1.jpg\n",
      "Copied and renamed file 'cat.2425.jpg' to test/cat/cat_2.jpg\n",
      "Copied and renamed file 'cat.2407.jpg' to test/cat/cat_3.jpg\n",
      "Copied and renamed file 'cat.2409.jpg' to test/cat/cat_4.jpg\n",
      "Copied and renamed file 'cat.2424.jpg' to test/cat/cat_5.jpg\n",
      "Copied and renamed file 'dog.2405.jpg' to test/dog/dog_1.jpg\n",
      "Copied and renamed file 'dog.2413.jpg' to test/dog/dog_2.jpg\n",
      "Copied and renamed file 'dog.2415.jpg' to test/dog/dog_3.jpg\n",
      "Copied and renamed file 'dog.2424.jpg' to test/dog/dog_4.jpg\n",
      "Copied and renamed file 'dog.2411.jpg' to test/dog/dog_5.jpg\n",
      "Image copying and renaming completed successfully!\n"
     ]
    }
   ],
   "source": [
    "import os\n",
    "import shutil\n",
    "\n",
    "# Parent folder containing cat and dog class folders\n",
    "parent_folder = \"/home/jovyan/work/Image\"\n",
    "\n",
    "# Destination folder\n",
    "destination_folder =\"/home/jovyan/work/Project\"\n",
    "\n",
    "try:\n",
    "    # Create the destination folder\n",
    "    if not os.path.exists(destination_folder):\n",
    "    # Create the directory\n",
    "      os.mkdir(destination_folder)\n",
    "      print(f\"Created destination folder: {destination_folder}\")\n",
    "\n",
    "    # Create the train folder and its cat and dog subfolders\n",
    "    train_folder = os.path.join(destination_folder, \"train\")\n",
    "    os.mkdir(train_folder)\n",
    "    os.mkdir(os.path.join(train_folder, \"cat\"))\n",
    "    os.mkdir(os.path.join(train_folder, \"dog\"))\n",
    "    print(f\"Created train folder: {train_folder}\")\n",
    "\n",
    "    # Create the validation folder and its cat and dog subfolders\n",
    "    validation_folder = os.path.join(destination_folder, \"validation\")\n",
    "    os.mkdir(validation_folder)\n",
    "    os.mkdir(os.path.join(validation_folder, \"cat\"))\n",
    "    os.mkdir(os.path.join(validation_folder, \"dog\"))\n",
    "    print(f\"Created validation folder: {validation_folder}\")\n",
    "\n",
    "    # Create the test folder and its cat and dog subfolders\n",
    "    test_folder = os.path.join(destination_folder, \"test\")\n",
    "    os.mkdir(test_folder)\n",
    "    os.mkdir(os.path.join(test_folder, \"cat\"))\n",
    "    os.mkdir(os.path.join(test_folder, \"dog\"))\n",
    "    print(f\"Created test folder: {test_folder}\")\n",
    "\n",
    "    # Get the list of cat and dog image files from the parent folder\n",
    "    cat_files = [file for file in os.listdir(os.path.join(parent_folder, \"cat\")) if not file.startswith(\".\")]\n",
    "    dog_files = [file for file in os.listdir(os.path.join(parent_folder, \"dog\")) if not file.startswith(\".\")]\n",
    "\n",
    "    # Copy and rename the cat images to the train folder\n",
    "    for idx, file in enumerate(cat_files[:10], start=1):\n",
    "        src_path = os.path.join(parent_folder, \"cat\", file)\n",
    "        dst_path = os.path.join(train_folder, \"cat\", f\"cat_{idx}.jpg\")\n",
    "        shutil.copy(src_path, dst_path)\n",
    "        print(f\"Copied and renamed file '{file}' to train/cat/cat_{idx}.jpg\")\n",
    "\n",
    "    # Copy and rename the dog images to the train folder\n",
    "    for idx, file in enumerate(dog_files[:10], start=1):\n",
    "        src_path = os.path.join(parent_folder, \"dog\", file)\n",
    "        dst_path = os.path.join(train_folder, \"dog\", f\"dog_{idx}.jpg\")\n",
    "        shutil.copy(src_path, dst_path)\n",
    "        print(f\"Copied and renamed file '{file}' to train/dog/dog_{idx}.jpg\")\n",
    "\n",
    "    # Copy and rename the cat images to the validation folder\n",
    "    for idx, file in enumerate(cat_files[10:15], start=1):\n",
    "        src_path = os.path.join(parent_folder, \"cat\", file)\n",
    "        dst_path = os.path.join(validation_folder, \"cat\", f\"cat_{idx}.jpg\")\n",
    "        shutil.copy(src_path, dst_path)\n",
    "        print(f\"Copied and renamed file '{file}' to validation/cat/cat_{idx}.jpg\")\n",
    "\n",
    "    # Copy and rename the dog images to the validation folder\n",
    "    for idx, file in enumerate(dog_files[10:15], start=1):\n",
    "        src_path = os.path.join(parent_folder, \"dog\", file)\n",
    "        dst_path = os.path.join(validation_folder, \"dog\", f\"dog_{idx}.jpg\")\n",
    "        shutil.copy(src_path, dst_path)\n",
    "        print(f\"Copied and renamed file '{file}' to validation/dog/dog_{idx}.jpg\")\n",
    "\n",
    "    # Copy and rename the cat images to the test folder\n",
    "    for idx, file in enumerate(cat_files[15:20], start=1):\n",
    "        src_path = os.path.join(parent_folder, \"cat\", file)\n",
    "        dst_path = os.path.join(test_folder, \"cat\", f\"cat_{idx}.jpg\")\n",
    "        shutil.copy(src_path, dst_path)\n",
    "        print(f\"Copied and renamed file '{file}' to test/cat/cat_{idx}.jpg\")\n",
    "\n",
    "    # Copy and rename the dog images to the test folder\n",
    "    for idx, file in enumerate(dog_files[15:20], start=1):\n",
    "        src_path = os.path.join(parent_folder, \"dog\", file)\n",
    "        dst_path = os.path.join(test_folder, \"dog\", f\"dog_{idx}.jpg\")\n",
    "        shutil.copy(src_path, dst_path)\n",
    "        print(f\"Copied and renamed file '{file}' to test/dog/dog_{idx}.jpg\")\n",
    "\n",
    "    print(\"Image copying and renaming completed successfully!\")\n",
    "\n",
    "except OSError as e:\n",
    "    print(f\"Error occurred during folder creation or image copying: {e}\")\n"
   ]
  },
  {
   "cell_type": "code",
   "execution_count": 45,
   "id": "785483b1-6c7d-4e2d-8d5f-52f1e02de748",
   "metadata": {},
   "outputs": [],
   "source": [
    "fruits = [\"apple\",\"pear\",\"orange\"]"
   ]
  },
  {
   "cell_type": "code",
   "execution_count": 46,
   "id": "00a65086-a623-4ede-94b6-fcb23389d850",
   "metadata": {},
   "outputs": [
    {
     "name": "stdout",
     "output_type": "stream",
     "text": [
      "0 apple\n",
      "1 pear\n",
      "2 orange\n"
     ]
    }
   ],
   "source": [
    "for index,value in enumerate(fruits):\n",
    "    print(index,value)"
   ]
  },
  {
   "cell_type": "code",
   "execution_count": 56,
   "id": "7ee62bd9-e908-4f87-a914-5a3d4fb6553b",
   "metadata": {},
   "outputs": [
    {
     "name": "stdout",
     "output_type": "stream",
     "text": [
      "0 cat.2430.jpg\n",
      "1 cat.2433.jpg\n",
      "2 cat.2413.jpg\n",
      "3 cat.2414.jpg\n",
      "4 cat.2417.jpg\n",
      "5 cat.2432.jpg\n",
      "6 cat.2415.jpg\n",
      "7 cat.2429.jpg\n",
      "8 cat.2423.jpg\n",
      "9 cat.2416.jpg\n",
      "10 cat.2435.jpg\n",
      "11 cat.2434.jpg\n",
      "12 cat.2408.jpg\n",
      "13 cat.2427.jpg\n",
      "14 cat.2428.jpg\n",
      "15 cat.2410.jpg\n",
      "16 cat.2425.jpg\n",
      "17 cat.2407.jpg\n",
      "18 cat.2409.jpg\n",
      "19 cat.2424.jpg\n",
      "20 cat.2420.jpg\n",
      "21 cat.2419.jpg\n",
      "22 cat.2431.jpg\n",
      "23 cat.2422.jpg\n",
      "24 cat.2412.jpg\n",
      "25 cat.2426.jpg\n",
      "26 cat.2421.jpg\n",
      "27 cat.2418.jpg\n",
      "28 cat.2411.jpg\n"
     ]
    }
   ],
   "source": [
    "for index,value in enumerate(cat_files):\n",
    "    print(index,value)"
   ]
  },
  {
   "cell_type": "code",
   "execution_count": null,
   "id": "55a907d2-8ce2-4bbe-8fed-275f843c589a",
   "metadata": {},
   "outputs": [],
   "source": []
  }
 ],
 "metadata": {
  "kernelspec": {
   "display_name": "Python 3 (ipykernel)",
   "language": "python",
   "name": "python3"
  },
  "language_info": {
   "codemirror_mode": {
    "name": "ipython",
    "version": 3
   },
   "file_extension": ".py",
   "mimetype": "text/x-python",
   "name": "python",
   "nbconvert_exporter": "python",
   "pygments_lexer": "ipython3",
   "version": "3.10.8"
  }
 },
 "nbformat": 4,
 "nbformat_minor": 5
}
