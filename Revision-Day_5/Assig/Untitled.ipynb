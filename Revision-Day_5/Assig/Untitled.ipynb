{
 "cells": [
  {
   "cell_type": "markdown",
   "id": "4c447e30-3b8f-4304-8ca3-95e65275b615",
   "metadata": {},
   "source": [
    "### Class Work\n",
    "Create a Folder named \"Project\" and under that folder, create 3 sub folders- Train, Validation and Test. Inside these sub folders there will be 2 folders cat and dog. Copy 10 images of each category to train cat and dog, 5 images to val and 5 images to test"
   ]
  },
  {
   "cell_type": "code",
   "execution_count": 1,
   "id": "85066da7-b875-4144-a7d6-09fb0f740c07",
   "metadata": {},
   "outputs": [],
   "source": [
    "import os\n",
    "import shutil"
   ]
  },
  {
   "cell_type": "code",
   "execution_count": 2,
   "id": "98c13192-275c-4e12-bd11-46d8b899ffe7",
   "metadata": {},
   "outputs": [],
   "source": [
    "## Parent folder coontainig cats and dog imagesabs\n",
    "parent_folder=\"/OneDrive/Desktop/Assig/Image\"\n",
    "\n",
    "## Folder in which we assign the image of cats and dogs\n",
    "destination_folder=\"/OneDrive/Desktop/Assig/Assignemt\"\n",
    "\n",
    "try :\n",
    "    "
   ]
  },
  {
   "cell_type": "code",
   "execution_count": 3,
   "id": "d8f725af-b19f-43e5-bef7-415306277d71",
   "metadata": {},
   "outputs": [
    {
     "data": {
      "text/plain": [
       "'C:\\\\Users\\\\mannu\\\\OneDrive\\\\Desktop\\\\Assig'"
      ]
     },
     "execution_count": 3,
     "metadata": {},
     "output_type": "execute_result"
    }
   ],
   "source": [
    "os.getcwd()"
   ]
  },
  {
   "cell_type": "code",
   "execution_count": null,
   "id": "ca101ae0-674c-40a2-a74a-b68b1da3c1c2",
   "metadata": {},
   "outputs": [],
   "source": []
  }
 ],
 "metadata": {
  "kernelspec": {
   "display_name": "Python 3 (ipykernel)",
   "language": "python",
   "name": "python3"
  },
  "language_info": {
   "codemirror_mode": {
    "name": "ipython",
    "version": 3
   },
   "file_extension": ".py",
   "mimetype": "text/x-python",
   "name": "python",
   "nbconvert_exporter": "python",
   "pygments_lexer": "ipython3",
   "version": "3.11.7"
  }
 },
 "nbformat": 4,
 "nbformat_minor": 5
}
