{
  "nbformat": 4,
  "nbformat_minor": 0,
  "metadata": {
    "colab": {
      "provenance": []
    },
    "kernelspec": {
      "name": "python3",
      "display_name": "Python 3"
    },
    "language_info": {
      "name": "python"
    }
  },
  "cells": [
    {
      "cell_type": "markdown",
      "source": [
        "**Create a Student-Database in python**   \n",
        " *student-id  \n",
        " *gender    \n",
        " *Department    \n",
        " *Sessional_perc  \n",
        " *Final_sem marks  \n",
        " *Backlog  "
      ],
      "metadata": {
        "id": "qEFPKJbI30fp"
      }
    },
    {
      "cell_type": "code",
      "execution_count": null,
      "metadata": {
        "id": "efiXKGk8zK3X"
      },
      "outputs": [],
      "source": [
        "student_id=['S01','S02','S03', 'S04', 'S05']\n",
        "gender=['M','F','F','M','F']\n",
        "dept=['CS','ECS','ME','CS','ME']\n",
        "sessional_perc=[45,60,73,65.3,71.9]\n",
        "total_marks=[680,800,520,650,750]\n",
        "backlogs=['NB','B','NB','B','NB']"
      ]
    },
    {
      "cell_type": "markdown",
      "source": [
        "**IF any student has recived more than 70% in their sessional increase the total marks by 2%**"
      ],
      "metadata": {
        "id": "gXJMHslB7Ft_"
      }
    },
    {
      "cell_type": "code",
      "source": [
        "for i in range(len(student_id)):\n",
        "  if sessional_perc[i]>70:\n",
        "    total_marks[i] = total_marks[i]+ total_marks[i]*0.02\n",
        "  else:\n",
        "    print(\"Marks did not change\")"
      ],
      "metadata": {
        "id": "4qvjR_Vh3zn2",
        "colab": {
          "base_uri": "https://localhost:8080/"
        },
        "outputId": "60da72d3-fe57-437f-d2ac-fb57ed99e9f5"
      },
      "execution_count": null,
      "outputs": [
        {
          "output_type": "stream",
          "name": "stdout",
          "text": [
            "Marks did not change\n",
            "Marks did not change\n",
            "Marks did not change\n"
          ]
        }
      ]
    },
    {
      "cell_type": "code",
      "source": [
        "total_marks"
      ],
      "metadata": {
        "colab": {
          "base_uri": "https://localhost:8080/"
        },
        "id": "rzq9xriJzx7Y",
        "outputId": "1eceb596-861e-4edd-e2f6-bc73cda65840"
      },
      "execution_count": null,
      "outputs": [
        {
          "output_type": "execute_result",
          "data": {
            "text/plain": [
              "[680, 800, 530.4, 650, 765.0]"
            ]
          },
          "metadata": {},
          "execution_count": 33
        }
      ]
    },
    {
      "cell_type": "markdown",
      "source": [
        "**S01 and S04 have got updated backlog Notice.S01 has got backlog and student S04 backlog..**"
      ],
      "metadata": {
        "id": "HcSYXUKg2uhn"
      }
    },
    {
      "cell_type": "code",
      "source": [
        "updated_stuent_id=['S01','S04']\n",
        "\n",
        "for i in range(len(student_id)):\n",
        "  if student_id[i] in updated_stuent_id:\n",
        "    backlogs[i]='B'\n",
        "  else:\n",
        "    backlogs[i]='NB'"
      ],
      "metadata": {
        "id": "MKqtwvisz2jf"
      },
      "execution_count": null,
      "outputs": []
    },
    {
      "cell_type": "code",
      "source": [
        "backlogs"
      ],
      "metadata": {
        "colab": {
          "base_uri": "https://localhost:8080/"
        },
        "id": "BAcd3FWp4VVd",
        "outputId": "2ed5c5e3-196f-49ab-a5bb-f61e01fe954c"
      },
      "execution_count": null,
      "outputs": [
        {
          "output_type": "execute_result",
          "data": {
            "text/plain": [
              "['B', 'NB', 'NB', 'B', 'NB']"
            ]
          },
          "metadata": {},
          "execution_count": 35
        }
      ]
    },
    {
      "cell_type": "markdown",
      "source": [
        "**If a student's total marks greater than 750 ad they have no baxklog.They will\n",
        " received a high scholorship and if a student has no backlog and has btween 650 to 700 tehy will receive Achiever Scholorship**"
      ],
      "metadata": {
        "id": "JDYTu-q346U_"
      }
    },
    {
      "cell_type": "code",
      "source": [
        "dept[-1]=\"CS\""
      ],
      "metadata": {
        "id": "bLAG8fjC4bci"
      },
      "execution_count": null,
      "outputs": []
    },
    {
      "cell_type": "code",
      "source": [
        "dept"
      ],
      "metadata": {
        "colab": {
          "base_uri": "https://localhost:8080/"
        },
        "id": "I1FpiMoR85Or",
        "outputId": "68b3d421-723c-4960-a1c1-0aa3aa2e6a2d"
      },
      "execution_count": null,
      "outputs": [
        {
          "output_type": "execute_result",
          "data": {
            "text/plain": [
              "['CS', 'ECS', 'ME', 'CS', 'CS']"
            ]
          },
          "metadata": {},
          "execution_count": 37
        }
      ]
    },
    {
      "cell_type": "code",
      "source": [
        "backlogs"
      ],
      "metadata": {
        "colab": {
          "base_uri": "https://localhost:8080/"
        },
        "id": "NoZDTLHU9dre",
        "outputId": "e597aac7-aab0-4db2-d7fa-ad0a0eb24cde"
      },
      "execution_count": null,
      "outputs": [
        {
          "output_type": "execute_result",
          "data": {
            "text/plain": [
              "['B', 'NB', 'NB', 'B', 'NB']"
            ]
          },
          "metadata": {},
          "execution_count": 45
        }
      ]
    },
    {
      "cell_type": "code",
      "source": [
        "total_marks"
      ],
      "metadata": {
        "colab": {
          "base_uri": "https://localhost:8080/"
        },
        "id": "AChfTdIXAo6I",
        "outputId": "455f1c65-758d-4752-ab78-2343d5122a6f"
      },
      "execution_count": null,
      "outputs": [
        {
          "output_type": "execute_result",
          "data": {
            "text/plain": [
              "[680, 800, 530.4, 650, 765.0]"
            ]
          },
          "metadata": {},
          "execution_count": 46
        }
      ]
    },
    {
      "cell_type": "code",
      "source": [
        "total_marks[2]=680"
      ],
      "metadata": {
        "id": "hhONdczXAqa7"
      },
      "execution_count": null,
      "outputs": []
    },
    {
      "cell_type": "code",
      "source": [
        "total_marks[4]=780"
      ],
      "metadata": {
        "id": "8UcFkZdkBAoq"
      },
      "execution_count": null,
      "outputs": []
    },
    {
      "cell_type": "code",
      "source": [
        "total_marks"
      ],
      "metadata": {
        "colab": {
          "base_uri": "https://localhost:8080/"
        },
        "id": "QoHWM4IaBUQt",
        "outputId": "df9ba1e3-6035-4098-be40-f5dadd2d73cf"
      },
      "execution_count": null,
      "outputs": [
        {
          "output_type": "execute_result",
          "data": {
            "text/plain": [
              "[680, 800, 680, 680, 780]"
            ]
          },
          "metadata": {},
          "execution_count": 54
        }
      ]
    },
    {
      "cell_type": "code",
      "source": [
        "for i in range(len(student_id)):\n",
        "  if dept[i]=='CS' and total_marks[i]>750 and backlogs[i]=='NB':\n",
        "    print(f\"Higher Achiever Scolorship awarded to {student_id[i]}\")\n",
        "  elif (650<total_marks[i]<700) and backlogs[i]==\"NB\":\n",
        "    print(\"Achiever Scholorship\")\n",
        "  else:\n",
        "    print(\"Not Eligible for Scholorship\")"
      ],
      "metadata": {
        "colab": {
          "base_uri": "https://localhost:8080/"
        },
        "id": "OmkWBkOo6m5e",
        "outputId": "eee0a769-cad4-47e7-e069-763919d11df0"
      },
      "execution_count": null,
      "outputs": [
        {
          "output_type": "stream",
          "name": "stdout",
          "text": [
            "Not Eligible for Scholorship\n",
            "Not Eligible for Scholorship\n",
            "Achiever Scholorship\n",
            "Not Eligible for Scholorship\n",
            "Higher Achiever Scolorship awarded to S05\n"
          ]
        }
      ]
    },
    {
      "cell_type": "code",
      "source": [
        "a=12\n",
        "b=20\n",
        "c=a+b\n",
        "c"
      ],
      "metadata": {
        "colab": {
          "base_uri": "https://localhost:8080/"
        },
        "id": "beFQ8a5U89nx",
        "outputId": "c934e533-7dbf-4014-ddaa-43f9b8e2cee6"
      },
      "execution_count": null,
      "outputs": [
        {
          "output_type": "execute_result",
          "data": {
            "text/plain": [
              "32"
            ]
          },
          "metadata": {},
          "execution_count": 41
        }
      ]
    },
    {
      "cell_type": "code",
      "source": [
        "print(\"Sum of {a} and {b} is {c}\")"
      ],
      "metadata": {
        "colab": {
          "base_uri": "https://localhost:8080/"
        },
        "id": "HWhvJrSh_7hL",
        "outputId": "315df079-46d2-49b4-9840-af6d2c0ed79e"
      },
      "execution_count": null,
      "outputs": [
        {
          "output_type": "stream",
          "name": "stdout",
          "text": [
            "Sum of {a} and {b} is {c}\n"
          ]
        }
      ]
    },
    {
      "cell_type": "code",
      "source": [
        "print(f\"Sum of {a} and {b} is {c}\")"
      ],
      "metadata": {
        "colab": {
          "base_uri": "https://localhost:8080/"
        },
        "id": "uvdTd8_ZASOW",
        "outputId": "de39a791-e89d-40a1-be91-ae5aba22a87d"
      },
      "execution_count": null,
      "outputs": [
        {
          "output_type": "stream",
          "name": "stdout",
          "text": [
            "Sum of 12 and 20 is 32\n"
          ]
        }
      ]
    },
    {
      "cell_type": "code",
      "source": [
        "scholarships = ['No Scholarship' for _ in range (len(student_id))]"
      ],
      "metadata": {
        "id": "-HWI7uVQCSu2"
      },
      "execution_count": null,
      "outputs": []
    },
    {
      "cell_type": "code",
      "source": [
        "scholarships"
      ],
      "metadata": {
        "colab": {
          "base_uri": "https://localhost:8080/"
        },
        "id": "aYT1C-sUB57Z",
        "outputId": "496aab52-5552-48bf-f22f-066ad7737356"
      },
      "execution_count": null,
      "outputs": [
        {
          "output_type": "execute_result",
          "data": {
            "text/plain": [
              "['No Scholarship',\n",
              " 'No Scholarship',\n",
              " 'No Scholarship',\n",
              " 'No Scholarship',\n",
              " 'No Scholarship']"
            ]
          },
          "metadata": {},
          "execution_count": 61
        }
      ]
    },
    {
      "cell_type": "code",
      "source": [
        "scholarships = []\n",
        "\n",
        "for i in range(len(student_id)):\n",
        "    scholarships.append('No Scholarship')"
      ],
      "metadata": {
        "id": "rNhfBy2lCdZP"
      },
      "execution_count": null,
      "outputs": []
    },
    {
      "cell_type": "code",
      "source": [
        "from os import scandir\n",
        "scandir"
      ],
      "metadata": {
        "id": "L0gWSbGdCdcw"
      },
      "execution_count": null,
      "outputs": []
    },
    {
      "cell_type": "code",
      "source": [
        "for i in range(len(student_id)):\n",
        "    if dept[i] == 'CS' and total_marks[i]>750 and backlogs[i] == 'NB':\n",
        "        scholarships[i] = 'High Achiever Scholarship'\n",
        "        print(f\"High Achiever Scholarship awarded to {student_id[i]}\")\n",
        "\n",
        "    elif backlogs[i] == 'NB' and (650<total_marks[i]<=720):\n",
        "        scholarships[i] = 'Achiever Scholarship'\n",
        "        print(f\"Achiever Scholarship awarded to {student_id[i]}\")\n",
        "    else:\n",
        "        print('No scholarships were given')"
      ],
      "metadata": {
        "colab": {
          "base_uri": "https://localhost:8080/"
        },
        "id": "B6AHaEy3Cdiw",
        "outputId": "e1dd75d9-2c92-4665-880c-27e5adbdaf04"
      },
      "execution_count": null,
      "outputs": [
        {
          "output_type": "stream",
          "name": "stdout",
          "text": [
            "No scholarships were given\n",
            "No scholarships were given\n",
            "Achiever Scholarship awarded to S03\n",
            "No scholarships were given\n",
            "High Achiever Scholarship awarded to S05\n"
          ]
        }
      ]
    },
    {
      "cell_type": "code",
      "source": [
        "student_database={\n",
        "    'Student ID': student_id,\n",
        "    'Gender': gender,\n",
        "    'Department': dept,\n",
        "    'Sessional Perc': sessional_perc,\n",
        "    'Total Marks': total_marks,\n",
        "    'Backlog': backlogs,\n",
        "    'Scholarships': scholarships\n",
        "\n",
        "}"
      ],
      "metadata": {
        "id": "moeXi4eUAXZl"
      },
      "execution_count": null,
      "outputs": []
    },
    {
      "cell_type": "code",
      "source": [
        "student_database"
      ],
      "metadata": {
        "colab": {
          "base_uri": "https://localhost:8080/"
        },
        "id": "H1jt643_B2OL",
        "outputId": "99ad54db-5bb8-412c-c0a2-cb7e216b9fc8"
      },
      "execution_count": null,
      "outputs": [
        {
          "output_type": "execute_result",
          "data": {
            "text/plain": [
              "{'Student ID': ['S01', 'S02', 'S03', 'S04', 'S05'],\n",
              " 'Gender': ['M', 'F', 'F', 'M', 'F'],\n",
              " 'Department': ['CS', 'ECS', 'ME', 'CS', 'CS'],\n",
              " 'Sessional Perc': [45, 60, 73, 65.3, 71.9],\n",
              " 'Total Marks': [680, 800, 680, 680, 780],\n",
              " 'Backlog': ['B', 'NB', 'NB', 'B', 'NB']}"
            ]
          },
          "metadata": {},
          "execution_count": 58
        }
      ]
    },
    {
      "cell_type": "code",
      "source": [
        "student_database.keys()"
      ],
      "metadata": {
        "colab": {
          "base_uri": "https://localhost:8080/"
        },
        "id": "eF3Y6NXIC5mV",
        "outputId": "9e14ebad-0e13-4ae7-f549-1adb12d2221d"
      },
      "execution_count": null,
      "outputs": [
        {
          "output_type": "execute_result",
          "data": {
            "text/plain": [
              "dict_keys(['Student ID', 'Gender', 'Department', 'Sessional Perc', 'Total Marks', 'Backlog', 'Scholarships'])"
            ]
          },
          "metadata": {},
          "execution_count": 68
        }
      ]
    },
    {
      "cell_type": "code",
      "source": [
        "student_database.values()"
      ],
      "metadata": {
        "colab": {
          "base_uri": "https://localhost:8080/"
        },
        "id": "9avB_dYEC6S1",
        "outputId": "cd158cce-35e6-4a82-8b76-31d5e55e4d4c"
      },
      "execution_count": null,
      "outputs": [
        {
          "output_type": "execute_result",
          "data": {
            "text/plain": [
              "dict_values([['S01', 'S02', 'S03', 'S04', 'S05'], ['M', 'F', 'F', 'M', 'F'], ['CS', 'ECS', 'ME', 'CS', 'CS'], [45, 60, 73, 65.3, 71.9], [680, 800, 680, 680, 780], ['B', 'NB', 'NB', 'B', 'NB'], ['No Scholarship', 'No Scholarship', 'Achiever Scholarship', 'No Scholarship', 'High Achiever Scholarship']])"
            ]
          },
          "metadata": {},
          "execution_count": 69
        }
      ]
    },
    {
      "cell_type": "code",
      "source": [
        "student_database.items()"
      ],
      "metadata": {
        "colab": {
          "base_uri": "https://localhost:8080/"
        },
        "id": "2xm6CzTJDDkL",
        "outputId": "76cee3a4-871f-4719-bf4c-cf768eab18dd"
      },
      "execution_count": null,
      "outputs": [
        {
          "output_type": "execute_result",
          "data": {
            "text/plain": [
              "dict_items([('Student ID', ['S01', 'S02', 'S03', 'S04', 'S05']), ('Gender', ['M', 'F', 'F', 'M', 'F']), ('Department', ['CS', 'ECS', 'ME', 'CS', 'CS']), ('Sessional Perc', [45, 60, 73, 65.3, 71.9]), ('Total Marks', [680, 800, 680, 680, 780]), ('Backlog', ['B', 'NB', 'NB', 'B', 'NB']), ('Scholarships', ['No Scholarship', 'No Scholarship', 'Achiever Scholarship', 'No Scholarship', 'High Achiever Scholarship'])])"
            ]
          },
          "metadata": {},
          "execution_count": 70
        }
      ]
    },
    {
      "cell_type": "code",
      "source": [],
      "metadata": {
        "id": "S5J5CkvsDH2k"
      },
      "execution_count": null,
      "outputs": []
    }
  ]
}