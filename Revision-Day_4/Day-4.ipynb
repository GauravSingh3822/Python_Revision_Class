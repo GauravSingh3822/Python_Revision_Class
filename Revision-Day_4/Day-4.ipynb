{
 "cells": [
  {
   "cell_type": "markdown",
   "id": "7f763b2a-a51b-47ed-ae14-6df7abb43c37",
   "metadata": {},
   "source": [
    "### Class\n",
    "### Objects \n",
    "### Methods  "
   ]
  },
  {
   "cell_type": "markdown",
   "id": "0afd690d-e215-43ad-a812-daa446ed4f1f",
   "metadata": {},
   "source": [
    "#### class is a blue_print of the objects and objects is a real world entity and objects is instance of class\\\n",
    "eg.car\n"
   ]
  },
  {
   "cell_type": "code",
   "execution_count": 3,
   "id": "94ed6f1d-a769-42bf-8ad7-d0cbccd3ac98",
   "metadata": {},
   "outputs": [],
   "source": [
    "class car :\n",
    "    def __init__(self,make,model,color):   ## self relate the class\n",
    "        self.make=make ## instance variable\n",
    "        self.model=model ## instance variable\n",
    "        self.color=color ## instance variable\n"
   ]
  },
  {
   "cell_type": "code",
   "execution_count": 2,
   "id": "136bc98a-0236-4260-a9d7-725dd06f7e01",
   "metadata": {},
   "outputs": [],
   "source": [
    "class car :\n",
    "    def __init__(self,make,model,color):   ## self relate the class\n",
    "        self.banawat=make ## instance variable\n",
    "        self.maadel=model ## instance variable\n",
    "        self.rang=color ## instance variable"
   ]
  },
  {
   "cell_type": "code",
   "execution_count": 14,
   "id": "3082a7a2-3909-48ae-82b9-d9753608522e",
   "metadata": {},
   "outputs": [],
   "source": [
    "class car :\n",
    "     def __init__(self,make,model,color):   ## self relate the class\n",
    "        self.make=make ## instance variable\n",
    "        self.model=model ## instance variable\n",
    "        self.color=color ## instance variable\n",
    "\n",
    "    ## ab class ko kaam karwane ke liye method banayengeabs\n",
    "     def mileage(self):\n",
    "        print(\"The milage of the car \")"
   ]
  },
  {
   "cell_type": "code",
   "execution_count": 15,
   "id": "a4104f15-f44a-4b54-bfd9-f4e030a3e1f1",
   "metadata": {},
   "outputs": [
    {
     "ename": "TypeError",
     "evalue": "car.__init__() missing 3 required positional arguments: 'make', 'model', and 'color'",
     "output_type": "error",
     "traceback": [
      "\u001b[1;31m---------------------------------------------------------------------------\u001b[0m",
      "\u001b[1;31mTypeError\u001b[0m                                 Traceback (most recent call last)",
      "Cell \u001b[1;32mIn[15], line 1\u001b[0m\n\u001b[1;32m----> 1\u001b[0m breeza\u001b[38;5;241m=\u001b[39mcar()\n",
      "\u001b[1;31mTypeError\u001b[0m: car.__init__() missing 3 required positional arguments: 'make', 'model', and 'color'"
     ]
    }
   ],
   "source": [
    "breeza=car()"
   ]
  },
  {
   "cell_type": "code",
   "execution_count": 16,
   "id": "d6fb332d-187e-4ff9-b515-acc9ce807193",
   "metadata": {},
   "outputs": [],
   "source": [
    "breeza=car('Maruti','Suv','Blue')"
   ]
  },
  {
   "cell_type": "code",
   "execution_count": 17,
   "id": "084339a6-e582-46aa-9ecc-c751c8042a9e",
   "metadata": {},
   "outputs": [
    {
     "data": {
      "text/plain": [
       "'Maruti'"
      ]
     },
     "execution_count": 17,
     "metadata": {},
     "output_type": "execute_result"
    }
   ],
   "source": [
    "breeza.make"
   ]
  },
  {
   "cell_type": "code",
   "execution_count": 18,
   "id": "a32b5755-8a4a-42d7-9b63-173ab88a8f22",
   "metadata": {},
   "outputs": [
    {
     "data": {
      "text/plain": [
       "'Suv'"
      ]
     },
     "execution_count": 18,
     "metadata": {},
     "output_type": "execute_result"
    }
   ],
   "source": [
    "breeza.model"
   ]
  },
  {
   "cell_type": "code",
   "execution_count": 19,
   "id": "48d30987-65b2-47b3-9502-92caa6cc6d5f",
   "metadata": {},
   "outputs": [
    {
     "data": {
      "text/plain": [
       "'Blue'"
      ]
     },
     "execution_count": 19,
     "metadata": {},
     "output_type": "execute_result"
    }
   ],
   "source": [
    "breeza.color"
   ]
  },
  {
   "cell_type": "code",
   "execution_count": 21,
   "id": "7e848cb9-106a-4cc7-bf08-f35c9db28a35",
   "metadata": {},
   "outputs": [
    {
     "name": "stdout",
     "output_type": "stream",
     "text": [
      "The milage of the car \n"
     ]
    }
   ],
   "source": [
    "breeza.mileage()"
   ]
  },
  {
   "cell_type": "markdown",
   "id": "1f59bddf-8f1f-4d24-93d6-dc5593c4d425",
   "metadata": {},
   "source": [
    "## Club App"
   ]
  },
  {
   "cell_type": "code",
   "execution_count": 29,
   "id": "1375f1f1-747e-4ba7-a223-6a05d90a2bf9",
   "metadata": {},
   "outputs": [],
   "source": [
    "class Club :\n",
    "    def __init__(self,Club_name,Max_Members):\n",
    "        self.Club_name=Club_name ## instance variable\n",
    "        self.Max_Members=Max_Members ## instance variable\n",
    "        self.memberList=[] ## instance variable\n",
    "\n",
    "    def add_Member(self,name) :\n",
    "        ## we will check max membership has been reached out\n",
    "        if self.Max_Members > len(self.memberList) :\n",
    "            self.memberList.append(name)\n",
    "            print('OK',name,'has been added in',self.Club_name,'Club')\n",
    "        else :\n",
    "            print('Sorry ,we cannot add name',name,self.Club_name,'Club')\n",
    "            print('This club already has the maximum nymber of',self.Max_Members)\n",
    "\n",
    "    def report(self) :\n",
    "         print()\n",
    "         print('Here are the',len(self.memberList),'member of the',self.Club_name)\n",
    "         for name in self.memberList :\n",
    "             print(''+name)\n",
    "         print()\n",
    "    "
   ]
  },
  {
   "cell_type": "code",
   "execution_count": 30,
   "id": "01e0b6c7-9f32-405a-9ca7-4f9bc3965210",
   "metadata": {},
   "outputs": [],
   "source": [
    "Data_science_club=Club(\"Data Science\",5)"
   ]
  },
  {
   "cell_type": "code",
   "execution_count": 31,
   "id": "876618a4-1728-4066-b9e6-c2236a8fc5bd",
   "metadata": {},
   "outputs": [
    {
     "name": "stdout",
     "output_type": "stream",
     "text": [
      "OK name1 has been added in Data Science Club\n"
     ]
    }
   ],
   "source": [
    "Data_science_club.add_Member('name1')"
   ]
  },
  {
   "cell_type": "code",
   "execution_count": 33,
   "id": "35cb76ca-fbf2-4033-a563-de6e9de518ea",
   "metadata": {},
   "outputs": [
    {
     "name": "stdout",
     "output_type": "stream",
     "text": [
      "OK name2 has been added in Data Science Club\n"
     ]
    }
   ],
   "source": [
    "Data_science_club.add_Member('name2')"
   ]
  },
  {
   "cell_type": "code",
   "execution_count": 34,
   "id": "49697f7c-7e2a-4b70-a7e1-68ac5cb33b8e",
   "metadata": {},
   "outputs": [
    {
     "name": "stdout",
     "output_type": "stream",
     "text": [
      "OK name3 has been added in Data Science Club\n"
     ]
    }
   ],
   "source": [
    "Data_science_club.add_Member('name3')"
   ]
  },
  {
   "cell_type": "code",
   "execution_count": 35,
   "id": "8e1ec34a-d60f-4b72-854e-7f7e9261a739",
   "metadata": {},
   "outputs": [
    {
     "name": "stdout",
     "output_type": "stream",
     "text": [
      "OK name4 has been added in Data Science Club\n"
     ]
    }
   ],
   "source": [
    "Data_science_club.add_Member('name4')"
   ]
  },
  {
   "cell_type": "code",
   "execution_count": 37,
   "id": "aa55d2a1-e99c-42af-a3f9-0e0b316d31b4",
   "metadata": {},
   "outputs": [
    {
     "name": "stdout",
     "output_type": "stream",
     "text": [
      "Sorry ,we cannot add name name5 Data Science Club\n",
      "This club already has the maximum nymber of 5\n"
     ]
    }
   ],
   "source": [
    "Data_science_club.add_Member('name5')"
   ]
  },
  {
   "cell_type": "code",
   "execution_count": 38,
   "id": "8c8915e7-6b29-4cd6-a35b-e7b4f8c78d09",
   "metadata": {},
   "outputs": [],
   "source": [
    "Data_science_club.memberList.append('name5')"
   ]
  },
  {
   "cell_type": "code",
   "execution_count": 39,
   "id": "360294cb-0789-4f25-929b-164b7e69194e",
   "metadata": {},
   "outputs": [],
   "source": [
    "## Any body can access the data and they can manipulate it because it direlty hit the instance Variable"
   ]
  },
  {
   "cell_type": "code",
   "execution_count": 41,
   "id": "e7a9a091-1407-4530-b924-6f3a227eb2f4",
   "metadata": {},
   "outputs": [],
   "source": [
    "## Now we private the instance varible by adding single under-score(_) in front of instance Varible\n",
    "class Club :\n",
    "    def __init__(self,Club_name,Max_Members):\n",
    "        self.Club_name=Club_name ## instance variable\n",
    "        self.Max_Members=Max_Members ## instance variable\n",
    "        self._memberList=[] ## instance variable (Privatization)\n",
    "\n",
    "    def add_Member(self,name) :\n",
    "        ## we will check max membership has been reached out\n",
    "        if self.Max_Members > len(self._memberList) :\n",
    "            self._memberList.append(name)\n",
    "            print('OK',name,'has been added in',self.Club_name,'Club')\n",
    "        else :\n",
    "            print('Sorry ,we cannot add name',name,self.Club_name,'Club')\n",
    "            print('This club already has the maximum nymber of',self.Max_Members)\n",
    "\n",
    "    def report(self) :\n",
    "         print()\n",
    "         print('Here are the',len(self._memberList),'member of the',self.Club_name)\n",
    "         for name in self._memberList :\n",
    "             print(''+name)\n",
    "         print()\n",
    "\n",
    "## This is Encapsulation in PYthon..Encapsulation me Hinding data from client Which can't be modified ,access directly"
   ]
  },
  {
   "cell_type": "code",
   "execution_count": 42,
   "id": "9db5dffb-7f19-40b6-b8a6-4aa0d1a42ec6",
   "metadata": {},
   "outputs": [],
   "source": [
    "ML_Club=Club('Machine Learning',2)"
   ]
  },
  {
   "cell_type": "code",
   "execution_count": 43,
   "id": "c29034ff-554d-4321-bb54-1db793fef680",
   "metadata": {},
   "outputs": [
    {
     "name": "stdout",
     "output_type": "stream",
     "text": [
      "OK Name1 has been added in Machine Learning Club\n"
     ]
    }
   ],
   "source": [
    "ML_Club.add_Member(\"Name1\")"
   ]
  },
  {
   "cell_type": "code",
   "execution_count": 44,
   "id": "7c65e3f7-5d05-4602-909e-d3c68426d16d",
   "metadata": {},
   "outputs": [
    {
     "name": "stdout",
     "output_type": "stream",
     "text": [
      "OK Name has been added in Machine Learning Club\n"
     ]
    }
   ],
   "source": [
    "ML_Club.add_Member(\"Name\")"
   ]
  },
  {
   "cell_type": "code",
   "execution_count": 45,
   "id": "5c7bb439-c48a-4b38-8a94-ba3227030418",
   "metadata": {},
   "outputs": [
    {
     "name": "stdout",
     "output_type": "stream",
     "text": [
      "Sorry ,we cannot add name Name3 Machine Learning Club\n",
      "This club already has the maximum nymber of 2\n"
     ]
    }
   ],
   "source": [
    "ML_Club.add_Member(\"Name3\")"
   ]
  },
  {
   "cell_type": "code",
   "execution_count": null,
   "id": "11e07c6a-3e8d-4893-b023-b5186a7bd246",
   "metadata": {},
   "outputs": [],
   "source": [
    "ML_Club."
   ]
  },
  {
   "cell_type": "markdown",
   "id": "1b22798e-1952-4144-b3c5-6791376fa5c0",
   "metadata": {},
   "source": [
    "# Inheritance"
   ]
  },
  {
   "cell_type": "markdown",
   "id": "57e81a64-dba9-4572-b0d4-77bb77814f5d",
   "metadata": {},
   "source": [
    "## Inheritance means inherit the properties from other super class or Creatin a new class from an existing class"
   ]
  },
  {
   "cell_type": "code",
   "execution_count": 1,
   "id": "ccaf6907-fe7d-40fa-bcaf-710669fb40a8",
   "metadata": {},
   "outputs": [],
   "source": [
    "class Animal :\n",
    "    def __init__(self,name,age):\n",
    "        self.name=name\n",
    "        self.age =age\n",
    "\n",
    "    def eat(self):\n",
    "        print(f\"{self.name} is eating\")\n",
    "    def sleep(self):\n",
    "        print(f\"{self.name} is sleeping\")\n",
    "\n",
    "class Lion(Animal): #WE inherit animal property\n",
    "    def roar(self) :\n",
    "        print(f\"{self.name} is roaring\")\n",
    "\n",
    "class Monkey(Animal) :\n",
    "    def climb(self) :\n",
    "        print(f\"{self.name} is climb\")\n",
    "\n"
   ]
  },
  {
   "cell_type": "code",
   "execution_count": 2,
   "id": "a3896ef1-c45a-435e-bec8-df961c093735",
   "metadata": {},
   "outputs": [],
   "source": [
    "simba=Lion(\"Simba\",5)"
   ]
  },
  {
   "cell_type": "code",
   "execution_count": 3,
   "id": "e026eb0e-557a-4197-8e9d-f892b4ea6ad3",
   "metadata": {},
   "outputs": [
    {
     "name": "stdout",
     "output_type": "stream",
     "text": [
      "Simba is eating\n"
     ]
    }
   ],
   "source": [
    "simba.eat()"
   ]
  },
  {
   "cell_type": "code",
   "execution_count": 4,
   "id": "29ba7d0b-2141-4e13-8591-13f0a95423bb",
   "metadata": {},
   "outputs": [],
   "source": [
    "champ = Monkey('Champ',8)"
   ]
  },
  {
   "cell_type": "code",
   "execution_count": 5,
   "id": "581d95b5-4832-46af-b381-d660c11dec6a",
   "metadata": {},
   "outputs": [
    {
     "name": "stdout",
     "output_type": "stream",
     "text": [
      "Champ is sleeping\n"
     ]
    }
   ],
   "source": [
    "champ.sleep()"
   ]
  },
  {
   "cell_type": "markdown",
   "id": "4bdcc911-1712-4843-9490-21eedfb042b9",
   "metadata": {},
   "source": [
    "## Banking example"
   ]
  },
  {
   "cell_type": "code",
   "execution_count": 9,
   "id": "0630b165-b6de-4de9-92ea-6c82a7834945",
   "metadata": {},
   "outputs": [],
   "source": [
    "class BankAccount :\n",
    "    def __init__(self,account_number,account_holder) :\n",
    "        self.account_number=account_number\n",
    "        self.account_holder=account_holder\n",
    "        self.balance = 0\n",
    "\n",
    "    def deposit(self,amount) :\n",
    "        self.balance=self.balance+amount\n",
    "        return self.balance\n",
    "\n",
    "    def withdraw(self,amount) :\n",
    "        if amount > self.balance :\n",
    "            return \"Insufficent Balance\"\n",
    "        else :\n",
    "            self.balance=self.balance-amount\n",
    "        return self.balance\n",
    "    def get_balance(self) :\n",
    "        return self.balance\n",
    "\n",
    "class SavingAccount(BankAccount) :\n",
    "    def __init__(self,account_number,account_holder,interest_rate):\n",
    "        super().__init__(account_number,account_holder) ## Super keyword access the argument from our parent class\n",
    "        self.interest_rate = interest_rate\n",
    "\n",
    "    def add_interest(self):\n",
    "        interest = self.balance*self.interest_rate/100\n",
    "        self.balance = self.balance+interest\n",
    "        return self.balance\n",
    "\n",
    "class CurrentAccount(BankAccount) :\n",
    "    def __init__(self,account_number,account_holder,overdraft_limit) :\n",
    "        super().__init__(account_number,account_holder)\n",
    "        self.overdraft_limit=overdraft_limit\n",
    "\n",
    "    def withdraw(self,amount) :\n",
    "        if amount >self.balance + self.overdraft_limit :\n",
    "            print('OD Limit exceeded')\n",
    "        else :\n",
    "            self.balance = self.balance - amount\n",
    "        return self.balance\n",
    "        "
   ]
  },
  {
   "cell_type": "code",
   "execution_count": 12,
   "id": "fce29fb2-c683-465b-830c-f3cdca95ce1e",
   "metadata": {},
   "outputs": [],
   "source": [
    "savings_account = SavingAccount('123456','ABC',2.5)"
   ]
  },
  {
   "cell_type": "code",
   "execution_count": 13,
   "id": "05daaa9c-7389-4978-9d8e-96c3b5eb5229",
   "metadata": {},
   "outputs": [
    {
     "data": {
      "text/plain": [
       "5000"
      ]
     },
     "execution_count": 13,
     "metadata": {},
     "output_type": "execute_result"
    }
   ],
   "source": [
    "savings_account.deposit(5000)"
   ]
  },
  {
   "cell_type": "code",
   "execution_count": 15,
   "id": "68b586b0-a151-42b8-b639-575abd0e3691",
   "metadata": {},
   "outputs": [
    {
     "data": {
      "text/plain": [
       "5000"
      ]
     },
     "execution_count": 15,
     "metadata": {},
     "output_type": "execute_result"
    }
   ],
   "source": [
    "savings_account.get_balance()"
   ]
  },
  {
   "cell_type": "code",
   "execution_count": 16,
   "id": "69141669-91a1-45bc-9df2-833877612bc4",
   "metadata": {},
   "outputs": [
    {
     "data": {
      "text/plain": [
       "5125.0"
      ]
     },
     "execution_count": 16,
     "metadata": {},
     "output_type": "execute_result"
    }
   ],
   "source": [
    "savings_account.add_interest()"
   ]
  },
  {
   "cell_type": "code",
   "execution_count": 17,
   "id": "34e32a79-ee16-4cde-932f-0dc12682e655",
   "metadata": {},
   "outputs": [
    {
     "data": {
      "text/plain": [
       "4125.0"
      ]
     },
     "execution_count": 17,
     "metadata": {},
     "output_type": "execute_result"
    }
   ],
   "source": [
    "savings_account.withdraw(1000)"
   ]
  },
  {
   "cell_type": "markdown",
   "id": "4bbdcaa2-99eb-4075-bff4-211ea9f68f8e",
   "metadata": {},
   "source": [
    "## Polymorphism--->Polymorphism is made of two word poly and morphism ..Poly means many and morphism means Form or Plymorphism refers to the ability of different data types(or objects) to be manipulated with the same interface-that is with same methods or objects"
   ]
  },
  {
   "cell_type": "code",
   "execution_count": 19,
   "id": "a15d6823-2315-4f41-8a7a-b9d03a662e0c",
   "metadata": {},
   "outputs": [],
   "source": [
    "class Dog :\n",
    "    def __init__(self,name) :\n",
    "        self.name=name\n",
    "\n",
    "    def sound(self):\n",
    "        print(self.name,'Says woof woof woof')\n",
    "class cat :\n",
    "    def __init__(self,name) :\n",
    "        self.name=name\n",
    "\n",
    "    def sound(self) :\n",
    "        print(self.name,'Sats Meow Meow Meow')\n",
    "\n",
    "class Bird :\n",
    "    def __init__(self,name):\n",
    "        self.name=name\n",
    "    def sound(self) :\n",
    "        print(self.name,'Says tweet tweet tweet')\n"
   ]
  },
  {
   "cell_type": "code",
   "execution_count": 22,
   "id": "a708aee5-a873-44ab-9251-84696ae8a354",
   "metadata": {},
   "outputs": [],
   "source": [
    "dog1=Dog('Tommy')\n",
    "dog2=Dog('Jimmy')\n",
    "cat1=cat('Kitty')\n",
    "cat2=cat('Flufy')\n",
    "bird1=Bird('Angry')\n",
    "bird2=Bird('Fun')"
   ]
  },
  {
   "cell_type": "code",
   "execution_count": 23,
   "id": "7883c8d3-e100-42af-ae83-53e86ebc9e48",
   "metadata": {},
   "outputs": [],
   "source": [
    "animals = [dog1,dog2,cat1,cat2,bird1,bird2]"
   ]
  },
  {
   "cell_type": "code",
   "execution_count": 25,
   "id": "236787dd-93b8-4b17-bd8a-ee5bed534891",
   "metadata": {},
   "outputs": [
    {
     "name": "stdout",
     "output_type": "stream",
     "text": [
      "Tommy Says woof woof woof\n",
      "Jimmy Says woof woof woof\n",
      "Kitty Sats Meow Meow Meow\n",
      "Flufy Sats Meow Meow Meow\n",
      "Angry Says tweet tweet tweet\n",
      "Fun Says tweet tweet tweet\n"
     ]
    }
   ],
   "source": [
    "for animal in animals :\n",
    "    animal.sound()"
   ]
  },
  {
   "cell_type": "markdown",
   "id": "da203651-1e5a-4776-9002-dd56ba89a2e9",
   "metadata": {},
   "source": [
    "## Abstraction-->Abstraction means we hinding the uncessory details from client or hindin the implementation details from cien"
   ]
  },
  {
   "cell_type": "code",
   "execution_count": 28,
   "id": "93e25b10-17b2-481c-9f06-1a68b82cc6a6",
   "metadata": {},
   "outputs": [],
   "source": [
    "from abc import ABC,abstractmethod"
   ]
  },
  {
   "cell_type": "code",
   "execution_count": 29,
   "id": "c107b4b0-3b91-4ccb-8584-c4c349a22a79",
   "metadata": {},
   "outputs": [],
   "source": [
    "class Absclass(ABC):\n",
    "    def print(self,x):\n",
    "        print('Passed value :',x)\n",
    "\n",
    "    @abstractmethod\n",
    "    def task(self):\n",
    "        print('We are inside the abstract classs')\n",
    "\n",
    "class test_class(Absclass):\n",
    "    def task(self):\n",
    "        print('We are inside the test_class task')\n",
    "\n",
    "class example_class(Absclass):\n",
    "    def task(self):\n",
    "        print('we are inside the example_class task')\n",
    "    "
   ]
  },
  {
   "cell_type": "code",
   "execution_count": 30,
   "id": "65045678-7ee1-4a74-bc11-bc9aa1249661",
   "metadata": {},
   "outputs": [],
   "source": [
    "test_obj = test_class()"
   ]
  },
  {
   "cell_type": "code",
   "execution_count": 31,
   "id": "9ae7a3f2-9b1d-48a1-8abb-05ddd5af481c",
   "metadata": {},
   "outputs": [
    {
     "name": "stdout",
     "output_type": "stream",
     "text": [
      "We are inside the test_class task\n"
     ]
    }
   ],
   "source": [
    "test_obj.task()"
   ]
  },
  {
   "cell_type": "code",
   "execution_count": 32,
   "id": "6d9457d6-b3ed-4714-be09-5632d4c3775b",
   "metadata": {},
   "outputs": [
    {
     "name": "stdout",
     "output_type": "stream",
     "text": [
      "Passed value : 100\n"
     ]
    }
   ],
   "source": [
    "test_obj.print(100)"
   ]
  },
  {
   "cell_type": "code",
   "execution_count": 33,
   "id": "6d010c5d-32c6-448b-b95b-6e1efd8d3f45",
   "metadata": {},
   "outputs": [
    {
     "name": "stdout",
     "output_type": "stream",
     "text": [
      "True\n"
     ]
    }
   ],
   "source": [
    "print(isinstance(test_obj,Absclass))"
   ]
  }
 ],
 "metadata": {
  "kernelspec": {
   "display_name": "Python 3 (ipykernel)",
   "language": "python",
   "name": "python3"
  },
  "language_info": {
   "codemirror_mode": {
    "name": "ipython",
    "version": 3
   },
   "file_extension": ".py",
   "mimetype": "text/x-python",
   "name": "python",
   "nbconvert_exporter": "python",
   "pygments_lexer": "ipython3",
   "version": "3.11.7"
  }
 },
 "nbformat": 4,
 "nbformat_minor": 5
}
