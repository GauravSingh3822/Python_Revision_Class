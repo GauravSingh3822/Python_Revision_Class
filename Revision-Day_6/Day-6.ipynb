{
 "cells": [
  {
   "cell_type": "markdown",
   "id": "092eda2b-7973-4bf8-8bd3-34cf26d0d933",
   "metadata": {},
   "source": [
    "# Logging and Debugging"
   ]
  },
  {
   "cell_type": "markdown",
   "id": "5bf8cff0-6d44-4310-a66c-e1f22b045530",
   "metadata": {},
   "source": [
    "### Lggging is method in which store the data for future investigation...Logging method is a production based industry level method "
   ]
  },
  {
   "cell_type": "markdown",
   "id": "6a15ffe8-4d0d-41ab-813a-c834bcb4b82c",
   "metadata": {},
   "source": [
    "Logging levels application ke messages ko unki importance aur severity ke according categorize karte hain:  \n",
    "1.DEBUG: Bahut detailed information provide karta hai, jo development ke time issues diagnose karne mein madad karta hai.    \n",
    "2.INFO: General events ya operations indicate karta hai jo sahi tarike se kaam kar rahe hote hain.  \n",
    "3.WARNING: Possible issue ko signal karta hai jo program ko rokta nahi hai, lekin dhyaan dena zaroori hai.  \n",
    "4.ERROR: Significant problems highlight karta hai jo kuch functionality ko kaam karne se rok deti hain.  \n",
    "5.CRITICAL: Severe issues mark karta hai jo pura application fail ya crash karwa deti hain.  "
   ]
  },
  {
   "cell_type": "code",
   "execution_count": null,
   "id": "1d7ae6e3-3e73-470a-b854-ec4280b514f4",
   "metadata": {},
   "outputs": [],
   "source": [
    "import logging as lg"
   ]
  },
  {
   "cell_type": "code",
   "execution_count": null,
   "id": "b8ad2dc8-87f0-4c83-aec2-617e832ae7b5",
   "metadata": {},
   "outputs": [],
   "source": [
    "lg.basicConfig(filename=\"Gaurav.log\",level=lg.INFO, format = '%(asctime)s %(message)s')"
   ]
  },
  {
   "cell_type": "code",
   "execution_count": null,
   "id": "d2bc589f-e66d-482d-a3fc-00763dabd2dc",
   "metadata": {},
   "outputs": [],
   "source": [
    "lg.info(\"This is my test info sentence\")"
   ]
  },
  {
   "cell_type": "code",
   "execution_count": null,
   "id": "e07be283-8426-4245-898f-42cb17dd308f",
   "metadata": {},
   "outputs": [],
   "source": [
    "lg.warning(\"This is a test warning sentence\")"
   ]
  },
  {
   "cell_type": "code",
   "execution_count": null,
   "id": "c0480c15-0b75-4953-aa51-4f58c311f515",
   "metadata": {},
   "outputs": [],
   "source": [
    "def test(a,b):\n",
    "    try :\n",
    "        lg.info(str(a)+str(b))\n",
    "        div =a/b\n",
    "        return div\n",
    "    except Exception as e :\n",
    "        print(\"Your log file will contain info of the problem we have encountered\")\n",
    "        lg.error('Error has occured')\n"
   ]
  },
  {
   "cell_type": "code",
   "execution_count": null,
   "id": "2d203d9c-2f64-49a1-89ce-a042ecb09ad3",
   "metadata": {},
   "outputs": [],
   "source": [
    "test(4,0)"
   ]
  },
  {
   "cell_type": "markdown",
   "id": "438958a0-d3ac-4646-a671-dcc8f807c653",
   "metadata": {},
   "source": [
    "# Multi-Threading"
   ]
  },
  {
   "cell_type": "markdown",
   "id": "097646c8-d1e1-42b4-b426-e31ebb056b88",
   "metadata": {},
   "source": [
    "### Multithreading in Python allows us to run multiple threads (smaller units of a process) concurrently(Simultaneously) within a single process. This can be useful for performing tasks that involve waiting, such as I/O operations, without blocking the main thread\n",
    "### Eg of MultiThreading----> Net-Banking"
   ]
  },
  {
   "cell_type": "code",
   "execution_count": null,
   "id": "48167f80-0e7a-432d-8e20-52816e7643cb",
   "metadata": {},
   "outputs": [],
   "source": [
    "import threading \n",
    "def print_numbers() :\n",
    "    for i in range(1,6):\n",
    "        print(i)\n",
    "        \n",
    "# create a thread object\n",
    "thread = threading.Thread(target=print_numbers)\n",
    "\n",
    "# we use start keyword to start the thread \n",
    "thread.start()\n",
    "\n",
    "#continue with other threads while thread is running \n",
    "print('Main Thread')\n",
    "\n",
    "thread.join()\n"
   ]
  },
  {
   "cell_type": "markdown",
   "id": "7a979cc6-6f22-4100-9979-bf4132293f5e",
   "metadata": {},
   "source": [
    "### The join() method in Python's threading is used to wait for a thread to finish its execution before proceeding with the rest of the program. When you call join() on a thread, the main program (or the calling thread) will pause and wait until the thread has completed its task."
   ]
  },
  {
   "cell_type": "markdown",
   "id": "52790b77-a335-4f4d-bfe4-51f2d4e16d6c",
   "metadata": {},
   "source": [
    "### The start() method in Python's threading is used to begin the execution of a thread. When you call start() on a Thread object, it initiates the thread's activity by calling its run() method in a separate, parallel flow of execution. This allows the thread to operate concurrently with other threads in the same process."
   ]
  },
  {
   "cell_type": "code",
   "execution_count": null,
   "id": "48b77e6d-6c86-4818-afe5-588b6083de85",
   "metadata": {},
   "outputs": [],
   "source": [
    "def calculate_square(number):\n",
    "    result = number*number\n",
    "    print(f'The square of {number} is {result}')\n",
    "# create Thread\n",
    "threads = []\n",
    "\n",
    "for i in range(1,6) :\n",
    "    thread=threading.Thread(target=calculate_square,args=(i,))\n",
    "    threads.append(thread)\n",
    "    thread.start()\n",
    "    \n",
    "# Wait for all thread to finish \n",
    "for t in threads :\n",
    "    t.join()"
   ]
  },
  {
   "cell_type": "markdown",
   "id": "f7e797a6-f5c2-4c69-86c3-efd814d0f296",
   "metadata": {},
   "source": [
    "# Producer-Consumer"
   ]
  },
  {
   "cell_type": "code",
   "execution_count": 3,
   "id": "e60f6a26-307b-47ce-90cf-b8274d2a6659",
   "metadata": {},
   "outputs": [],
   "source": [
    "import queue\n",
    "import threading\n",
    "    "
   ]
  },
  {
   "cell_type": "code",
   "execution_count": 6,
   "id": "bf532615-61db-414f-81a6-13595e6b6eb2",
   "metadata": {},
   "outputs": [
    {
     "name": "stdout",
     "output_type": "stream",
     "text": [
      "Produced:1\n",
      "Produced:2\n",
      "Produced:3\n",
      "Produced:4\n",
      "Produced:5\n",
      "Consumed:1\n",
      "Consumed:2\n",
      "Consumed:3\n",
      "Consumed:4\n",
      "Consumed:5\n"
     ]
    }
   ],
   "source": [
    "def producer(queue):\n",
    "    for i in range(1,6):\n",
    "        queue.put(i)\n",
    "        print(f\"Produced:{i}\")\n",
    "              \n",
    "def consumer(queue) :\n",
    "        while True :\n",
    "            item = queue.get()\n",
    "            print(f'Consumed:{item}')\n",
    "            if item == 5 :\n",
    "                 break \n",
    "# Create a shared queue\n",
    "shared_queue=queue.Queue()\n",
    "producer_thread = threading.Thread(target = producer,args = (shared_queue,))\n",
    "consumer_thread = threading.Thread(target = consumer ,args = (shared_queue,))\n",
    "\n",
    "# start the thread \n",
    "producer_thread.start()\n",
    "consumer_thread.start()\n",
    "\n",
    "producer_thread.join()\n",
    "consumer_thread.join()"
   ]
  },
  {
   "cell_type": "markdown",
   "id": "0c8b852d-2876-4610-ad65-cd4be863f35c",
   "metadata": {},
   "source": [
    "# Multi-Processing"
   ]
  },
  {
   "cell_type": "markdown",
   "id": "89c03c22-b4ed-4def-98ec-871348ccc9e3",
   "metadata": {},
   "source": [
    "### Multiprocessing in Python allows we to create separate processes that run concurrently, each with its own memory space. This is particularly useful for CPU-bound tasks where Python's Global Interpreter Lock (GIL) might limit the effectiveness of multithreading. By using multiple processes, we can take full advantage of multiple CPU cores, significantly improving performance for tasks that require intensive computation."
   ]
  },
  {
   "cell_type": "markdown",
   "id": "3b399f61-9a6f-4852-af3d-8931d5e315fa",
   "metadata": {},
   "source": [
    "## Ouestion Write a python that create four process each process should print diffenent number using multiprocessing module"
   ]
  },
  {
   "cell_type": "code",
   "execution_count": 19,
   "id": "422d141b-d21a-4038-b31c-da130e0fb9ab",
   "metadata": {},
   "outputs": [
    {
     "name": "stdout",
     "output_type": "stream",
     "text": [
      "Process 1 : 1\n",
      "Process 2 : 2\n",
      "Process 3 : 3\n",
      "Process 4 : 4\n"
     ]
    }
   ],
   "source": [
    "import multiprocessing\n",
    "\n",
    "def process_1(number) :\n",
    "    print(f\"Process {number} : {number}\")\n",
    "if __name__=='__main__' :\n",
    "    processes = []\n",
    "    for i in range(1,5):\n",
    "        p = multiprocessing.Process(target=process_1, args=(i,))\n",
    "        processes.append(p)\n",
    "        p.start()\n",
    "\n",
    "    # Ensuring all processes complete\n",
    "    for p in processes:\n",
    "        p.join()\n",
    "    "
   ]
  },
  {
   "cell_type": "code",
   "execution_count": null,
   "id": "0cb6daa5-c5f2-4c1a-a54f-0d52c4596843",
   "metadata": {},
   "outputs": [],
   "source": []
  }
 ],
 "metadata": {
  "kernelspec": {
   "display_name": "Python 3 (ipykernel)",
   "language": "python",
   "name": "python3"
  },
  "language_info": {
   "codemirror_mode": {
    "name": "ipython",
    "version": 3
   },
   "file_extension": ".py",
   "mimetype": "text/x-python",
   "name": "python",
   "nbconvert_exporter": "python",
   "pygments_lexer": "ipython3",
   "version": "3.10.8"
  }
 },
 "nbformat": 4,
 "nbformat_minor": 5
}
