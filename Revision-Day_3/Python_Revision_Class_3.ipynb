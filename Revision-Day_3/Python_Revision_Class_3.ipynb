{
  "nbformat": 4,
  "nbformat_minor": 0,
  "metadata": {
    "colab": {
      "provenance": []
    },
    "kernelspec": {
      "name": "python3",
      "display_name": "Python 3"
    },
    "language_info": {
      "name": "python"
    }
  },
  "cells": [
    {
      "cell_type": "markdown",
      "source": [
        "# **Iterable-Iterable is like a container that store the data and and we can iterate the evey element eg:List,dictory**"
      ],
      "metadata": {
        "id": "AoQFXO337mT5"
      }
    },
    {
      "cell_type": "markdown",
      "source": [
        "# **Iterate-Iterate mean we exract and pick and check evey element in Itarable(Container)..Iterator is like objects in Container**"
      ],
      "metadata": {
        "id": "9E_b9QSl8tkR"
      }
    },
    {
      "cell_type": "markdown",
      "source": [
        "#**Why need Function..?**"
      ],
      "metadata": {
        "id": "tZQ6fJaZ9bGX"
      }
    },
    {
      "cell_type": "markdown",
      "source": [
        "#**We use function for code reusability,maintenace cost**"
      ],
      "metadata": {
        "id": "bM73v8Bj9oV4"
      }
    },
    {
      "cell_type": "code",
      "source": [
        "def total_cast(x,y) :\n",
        "  print(x*y)"
      ],
      "metadata": {
        "id": "oSR-Ux2t-V_G"
      },
      "execution_count": 8,
      "outputs": []
    },
    {
      "cell_type": "code",
      "source": [],
      "metadata": {
        "colab": {
          "base_uri": "https://localhost:8080/"
        },
        "id": "8cr2hPeF-qfC",
        "outputId": "9165a99c-320b-4a12-e3c9-d957c856291e"
      },
      "execution_count": 11,
      "outputs": [
        {
          "output_type": "stream",
          "name": "stdout",
          "text": [
            "200\n"
          ]
        }
      ]
    },
    {
      "cell_type": "code",
      "source": [
        "total_checkout"
      ],
      "metadata": {
        "id": "a0gTGn0E-t3I"
      },
      "execution_count": 12,
      "outputs": []
    },
    {
      "cell_type": "code",
      "source": [
        "type(total_checkout)"
      ],
      "metadata": {
        "colab": {
          "base_uri": "https://localhost:8080/"
        },
        "id": "ICbejdH1_Clm",
        "outputId": "04d99eed-a32b-40e0-f061-af95f34cc403"
      },
      "execution_count": 13,
      "outputs": [
        {
          "output_type": "execute_result",
          "data": {
            "text/plain": [
              "NoneType"
            ]
          },
          "metadata": {},
          "execution_count": 13
        }
      ]
    },
    {
      "cell_type": "code",
      "source": [
        "def total_cast(x,y) :\n",
        "  return(x*y)"
      ],
      "metadata": {
        "id": "WNvMXyZJ--Q5"
      },
      "execution_count": 14,
      "outputs": []
    },
    {
      "cell_type": "code",
      "source": [
        "total_checkout=total_cast(10,20)"
      ],
      "metadata": {
        "id": "d1hFoiid_ONE"
      },
      "execution_count": 15,
      "outputs": []
    },
    {
      "cell_type": "code",
      "source": [
        "total_checkout"
      ],
      "metadata": {
        "colab": {
          "base_uri": "https://localhost:8080/"
        },
        "id": "xLSuaRy5_Twa",
        "outputId": "b03124cc-aad1-491e-c66e-11bbd47335e8"
      },
      "execution_count": 16,
      "outputs": [
        {
          "output_type": "execute_result",
          "data": {
            "text/plain": [
              "200"
            ]
          },
          "metadata": {},
          "execution_count": 16
        }
      ]
    },
    {
      "cell_type": "code",
      "source": [
        "type(total_checkout)"
      ],
      "metadata": {
        "colab": {
          "base_uri": "https://localhost:8080/"
        },
        "id": "dI_3Y97O_Vh2",
        "outputId": "85a9fc5f-f070-4b88-ff8a-e480d4787076"
      },
      "execution_count": 17,
      "outputs": [
        {
          "output_type": "execute_result",
          "data": {
            "text/plain": [
              "int"
            ]
          },
          "metadata": {},
          "execution_count": 17
        }
      ]
    },
    {
      "cell_type": "markdown",
      "source": [
        "## **Important point-Print dose not give any value after calling function but return give value ....Mean if we check data type of print function it Give NoneType but return give a return type**"
      ],
      "metadata": {
        "id": "aTlYLojp_7cQ"
      }
    },
    {
      "cell_type": "markdown",
      "source": [
        "#**Generator**"
      ],
      "metadata": {
        "id": "Zr8jLdnMAIZf"
      }
    },
    {
      "cell_type": "markdown",
      "source": [
        "Generator is used when we want to save memory"
      ],
      "metadata": {
        "id": "-Vby8OD3AOnt"
      }
    },
    {
      "cell_type": "code",
      "source": [
        "some_list=[1,2,3,4,5,6,7,8]"
      ],
      "metadata": {
        "id": "0wXoXXgk_bFh"
      },
      "execution_count": 18,
      "outputs": []
    },
    {
      "cell_type": "code",
      "source": [
        "for i in some_list:\n",
        "  print(i**2)"
      ],
      "metadata": {
        "colab": {
          "base_uri": "https://localhost:8080/"
        },
        "id": "zAPpsnRXAA-L",
        "outputId": "170413a0-a2ff-47f9-af8f-2e473d71a306"
      },
      "execution_count": 21,
      "outputs": [
        {
          "output_type": "stream",
          "name": "stdout",
          "text": [
            "1\n",
            "4\n",
            "9\n",
            "16\n",
            "25\n",
            "36\n",
            "49\n",
            "64\n"
          ]
        }
      ]
    },
    {
      "cell_type": "code",
      "source": [
        "## Yield is a Generator-Yeh memory me store nhi karta yeh ushka ek object bana deta hai..jisse hm ek ek karke retrieve karte hai"
      ],
      "metadata": {
        "id": "m1XVOg3GBA-b"
      },
      "execution_count": 22,
      "outputs": []
    },
    {
      "cell_type": "markdown",
      "source": [
        "## Generatin a sequence of Number"
      ],
      "metadata": {
        "id": "8_nOQ6frBlFk"
      }
    },
    {
      "cell_type": "code",
      "source": [
        "def number_sequence(n):\n",
        "  for i in range(n):\n",
        "    yield i"
      ],
      "metadata": {
        "id": "y870JEtIBhe6"
      },
      "execution_count": 23,
      "outputs": []
    },
    {
      "cell_type": "code",
      "source": [
        "number_sequence(10)"
      ],
      "metadata": {
        "colab": {
          "base_uri": "https://localhost:8080/"
        },
        "id": "9kOGvk1LBqUH",
        "outputId": "7581d046-450d-4d83-bc7a-864c014fcf56"
      },
      "execution_count": 24,
      "outputs": [
        {
          "output_type": "execute_result",
          "data": {
            "text/plain": [
              "<generator object number_sequence at 0x7a5a823a7680>"
            ]
          },
          "metadata": {},
          "execution_count": 24
        }
      ]
    },
    {
      "cell_type": "markdown",
      "source": [
        "##Print and Return memory me store karke Output dikhata hai but Yield memory me kuch bhi store nhi karta hai yah object ka location bana deta hai"
      ],
      "metadata": {
        "id": "RKVaebhiCLDR"
      }
    },
    {
      "cell_type": "code",
      "source": [
        "##Accessing the Yield Object\n",
        "seq_gen=number_sequence(10)\n",
        "print(list(seq_gen))"
      ],
      "metadata": {
        "colab": {
          "base_uri": "https://localhost:8080/"
        },
        "id": "CtANS1SaB8AK",
        "outputId": "265bb631-b2af-4109-b01f-3a188f515709"
      },
      "execution_count": 26,
      "outputs": [
        {
          "output_type": "stream",
          "name": "stdout",
          "text": [
            "[0, 1, 2, 3, 4, 5, 6, 7, 8, 9]\n"
          ]
        }
      ]
    },
    {
      "cell_type": "code",
      "source": [],
      "metadata": {
        "id": "T1Oo3J2pCbov"
      },
      "execution_count": null,
      "outputs": []
    },
    {
      "cell_type": "markdown",
      "source": [
        "### Write a function to generate random function"
      ],
      "metadata": {
        "id": "R4_PeGZIDUwK"
      }
    },
    {
      "cell_type": "code",
      "source": [
        "import random\n"
      ],
      "metadata": {
        "id": "jLDxb5doDcuw"
      },
      "execution_count": 27,
      "outputs": []
    },
    {
      "cell_type": "code",
      "source": [
        "def random_num_generator():\n",
        "  while True :\n",
        "    yield random.randint(1,100)"
      ],
      "metadata": {
        "id": "72ifzFYeDgGw"
      },
      "execution_count": 28,
      "outputs": []
    },
    {
      "cell_type": "code",
      "source": [
        "random_number=random_num_generator()\n",
        "[next(random_number) for _ in range(5)]"
      ],
      "metadata": {
        "colab": {
          "base_uri": "https://localhost:8080/"
        },
        "id": "zfiHRb14D3i9",
        "outputId": "f2621e31-bded-4fcc-f160-d02551facf22"
      },
      "execution_count": 34,
      "outputs": [
        {
          "output_type": "execute_result",
          "data": {
            "text/plain": [
              "[40, 81, 15, 56, 32]"
            ]
          },
          "metadata": {},
          "execution_count": 34
        }
      ]
    },
    {
      "cell_type": "markdown",
      "source": [
        "## Next is used for iterator.Hence String it iterable but not iterator"
      ],
      "metadata": {
        "id": "AcqrjLWZFpc3"
      }
    },
    {
      "cell_type": "code",
      "source": [
        "x='Gaurav'"
      ],
      "metadata": {
        "id": "2iM8jcwNEFv1"
      },
      "execution_count": 35,
      "outputs": []
    },
    {
      "cell_type": "code",
      "source": [
        "next(x)"
      ],
      "metadata": {
        "colab": {
          "base_uri": "https://localhost:8080/",
          "height": 141
        },
        "id": "I5iBfonGFuy8",
        "outputId": "9684edf2-8136-4571-cd74-2cf37c7cd9a3"
      },
      "execution_count": 36,
      "outputs": [
        {
          "output_type": "error",
          "ename": "TypeError",
          "evalue": "'str' object is not an iterator",
          "traceback": [
            "\u001b[0;31m---------------------------------------------------------------------------\u001b[0m",
            "\u001b[0;31mTypeError\u001b[0m                                 Traceback (most recent call last)",
            "\u001b[0;32m<ipython-input-36-92de4e9f6b1e>\u001b[0m in \u001b[0;36m<cell line: 1>\u001b[0;34m()\u001b[0m\n\u001b[0;32m----> 1\u001b[0;31m \u001b[0mnext\u001b[0m\u001b[0;34m(\u001b[0m\u001b[0mx\u001b[0m\u001b[0;34m)\u001b[0m\u001b[0;34m\u001b[0m\u001b[0;34m\u001b[0m\u001b[0m\n\u001b[0m",
            "\u001b[0;31mTypeError\u001b[0m: 'str' object is not an iterator"
          ]
        }
      ]
    },
    {
      "cell_type": "code",
      "source": [
        "x=iter(x)"
      ],
      "metadata": {
        "id": "8fac1tOBF4KO"
      },
      "execution_count": 37,
      "outputs": []
    },
    {
      "cell_type": "code",
      "source": [
        "next(x)"
      ],
      "metadata": {
        "colab": {
          "base_uri": "https://localhost:8080/",
          "height": 36
        },
        "id": "WSx4L8wbF8xL",
        "outputId": "37062b34-4037-469b-8267-42438584db66"
      },
      "execution_count": 38,
      "outputs": [
        {
          "output_type": "execute_result",
          "data": {
            "text/plain": [
              "'G'"
            ],
            "application/vnd.google.colaboratory.intrinsic+json": {
              "type": "string"
            }
          },
          "metadata": {},
          "execution_count": 38
        }
      ]
    },
    {
      "cell_type": "code",
      "source": [
        "next(x)"
      ],
      "metadata": {
        "colab": {
          "base_uri": "https://localhost:8080/",
          "height": 36
        },
        "id": "7f5dNZCcF-yt",
        "outputId": "b6b3a463-77aa-4d03-e9ea-f32165d32d06"
      },
      "execution_count": 39,
      "outputs": [
        {
          "output_type": "execute_result",
          "data": {
            "text/plain": [
              "'a'"
            ],
            "application/vnd.google.colaboratory.intrinsic+json": {
              "type": "string"
            }
          },
          "metadata": {},
          "execution_count": 39
        }
      ]
    },
    {
      "cell_type": "markdown",
      "source": [
        "## Generating a prime number"
      ],
      "metadata": {
        "id": "OTmN79DxGUxZ"
      }
    },
    {
      "cell_type": "code",
      "source": [
        "def prime_num_generator():\n",
        "  num=2\n",
        "  while True:\n",
        "    if  prime_number(num) :\n",
        "      yield num\n",
        "    num=num+1\n",
        "\n"
      ],
      "metadata": {
        "id": "TD-Yds5uGBjs"
      },
      "execution_count": 45,
      "outputs": []
    },
    {
      "cell_type": "code",
      "source": [
        "def prime_number(n):\n",
        "  if n<2:\n",
        "    return False\n",
        "  for i in range(2,int(n**0.5)+1):\n",
        "    if n%i==0:\n",
        "      return False\n",
        "  return True"
      ],
      "metadata": {
        "id": "QNmHfVYWIimI"
      },
      "execution_count": 47,
      "outputs": []
    },
    {
      "cell_type": "code",
      "source": [
        "prime_number(10)"
      ],
      "metadata": {
        "colab": {
          "base_uri": "https://localhost:8080/"
        },
        "id": "bQ0rEH_AIuM-",
        "outputId": "1eba7e45-021a-480f-cab4-25f3aa042c8b"
      },
      "execution_count": 48,
      "outputs": [
        {
          "output_type": "execute_result",
          "data": {
            "text/plain": [
              "False"
            ]
          },
          "metadata": {},
          "execution_count": 48
        }
      ]
    },
    {
      "cell_type": "code",
      "source": [
        "prime_gen=prime_num_generator()\n",
        "[next(prime_gen) for _ in range(10)]"
      ],
      "metadata": {
        "colab": {
          "base_uri": "https://localhost:8080/"
        },
        "id": "vOfuL2FMIwwb",
        "outputId": "a56cf85d-c29d-496f-a0b8-d01c8ad366f2"
      },
      "execution_count": 49,
      "outputs": [
        {
          "output_type": "execute_result",
          "data": {
            "text/plain": [
              "[2, 3, 5, 7, 11, 13, 17, 19, 23, 29]"
            ]
          },
          "metadata": {},
          "execution_count": 49
        }
      ]
    },
    {
      "cell_type": "code",
      "source": [],
      "metadata": {
        "id": "6MjhUOWBJEKH"
      },
      "execution_count": null,
      "outputs": []
    },
    {
      "cell_type": "markdown",
      "source": [
        "## LAMBDA_FUNCTION-Lambda function is a Anonymous functio"
      ],
      "metadata": {
        "id": "MGv6h8EZLQ1P"
      }
    },
    {
      "cell_type": "code",
      "source": [
        "def add_num(x,y):\n",
        "  print(x+y)"
      ],
      "metadata": {
        "id": "3qYGlr5vLgge"
      },
      "execution_count": 50,
      "outputs": []
    },
    {
      "cell_type": "code",
      "source": [
        "add_num = lambda x,y:x+y"
      ],
      "metadata": {
        "id": "mHYViShhLpRM"
      },
      "execution_count": 53,
      "outputs": []
    },
    {
      "cell_type": "code",
      "source": [
        "add_num(4,5)"
      ],
      "metadata": {
        "colab": {
          "base_uri": "https://localhost:8080/"
        },
        "id": "mUutjejVLuq9",
        "outputId": "ec057937-8bef-4493-d7e9-3006898a655b"
      },
      "execution_count": 54,
      "outputs": [
        {
          "output_type": "execute_result",
          "data": {
            "text/plain": [
              "9"
            ]
          },
          "metadata": {},
          "execution_count": 54
        }
      ]
    },
    {
      "cell_type": "code",
      "source": [
        "## Square a number\n",
        "y=lambda x:x**2"
      ],
      "metadata": {
        "id": "cSO9xBb-MB6B"
      },
      "execution_count": 55,
      "outputs": []
    },
    {
      "cell_type": "code",
      "source": [
        "y(6)"
      ],
      "metadata": {
        "colab": {
          "base_uri": "https://localhost:8080/"
        },
        "id": "OY_0l1rTMSHK",
        "outputId": "34f7895a-1675-4bf0-96fa-5bf1c2addc87"
      },
      "execution_count": 56,
      "outputs": [
        {
          "output_type": "execute_result",
          "data": {
            "text/plain": [
              "36"
            ]
          },
          "metadata": {},
          "execution_count": 56
        }
      ]
    },
    {
      "cell_type": "code",
      "source": [
        "## Check if a number is even\n",
        "is_even = lambda x:x%2==0"
      ],
      "metadata": {
        "id": "1N_FmuwfMUik"
      },
      "execution_count": 57,
      "outputs": []
    },
    {
      "cell_type": "code",
      "source": [
        "is_even(3)"
      ],
      "metadata": {
        "colab": {
          "base_uri": "https://localhost:8080/"
        },
        "id": "n-OlrxY5MymF",
        "outputId": "aed5a328-d959-4564-858e-e6d0ec8024d9"
      },
      "execution_count": 58,
      "outputs": [
        {
          "output_type": "execute_result",
          "data": {
            "text/plain": [
              "False"
            ]
          },
          "metadata": {},
          "execution_count": 58
        }
      ]
    },
    {
      "cell_type": "code",
      "source": [
        "## Lambda Function to convert string to upper case:\n",
        "To_upper = lambda X:X.upper()"
      ],
      "metadata": {
        "id": "A4_Tk0SLM0x5"
      },
      "execution_count": 59,
      "outputs": []
    },
    {
      "cell_type": "code",
      "source": [
        "To_upper(\"gaurav\")"
      ],
      "metadata": {
        "colab": {
          "base_uri": "https://localhost:8080/",
          "height": 36
        },
        "id": "C8gKj_WDdkmS",
        "outputId": "d3afbbad-6c37-4794-f9f4-8fdf8bb5aff2"
      },
      "execution_count": 61,
      "outputs": [
        {
          "output_type": "execute_result",
          "data": {
            "text/plain": [
              "'GAURAV'"
            ],
            "application/vnd.google.colaboratory.intrinsic+json": {
              "type": "string"
            }
          },
          "metadata": {},
          "execution_count": 61
        }
      ]
    },
    {
      "cell_type": "code",
      "source": [
        "## Compute the average of list of number\n",
        "lst=[1,2,3,4,5]\n",
        "avg = lambda x:sum(lst)/len(lst)\n",
        "avg(lst)\n"
      ],
      "metadata": {
        "colab": {
          "base_uri": "https://localhost:8080/"
        },
        "id": "0n3BwmXtdnsz",
        "outputId": "13afbff7-d529-4959-c0b4-e28786c20b96"
      },
      "execution_count": 63,
      "outputs": [
        {
          "output_type": "execute_result",
          "data": {
            "text/plain": [
              "3.0"
            ]
          },
          "metadata": {},
          "execution_count": 63
        }
      ]
    },
    {
      "cell_type": "code",
      "source": [
        "## Check string is palindrome\n",
        "str_palindrome = lambda x:x==x[::-1]\n",
        "str_palindrome(\"Gaurav\")\n"
      ],
      "metadata": {
        "colab": {
          "base_uri": "https://localhost:8080/"
        },
        "id": "Z4pLbI7SeEYQ",
        "outputId": "05f47bf4-f3e0-4370-a8f4-83e8cdc7d767"
      },
      "execution_count": 69,
      "outputs": [
        {
          "output_type": "execute_result",
          "data": {
            "text/plain": [
              "False"
            ]
          },
          "metadata": {},
          "execution_count": 69
        }
      ]
    },
    {
      "cell_type": "code",
      "source": [
        "# Generating a dictionary with squared values\n",
        "squared_Dict=lambda n:{x:x**2 for x in range(1,n+1)}"
      ],
      "metadata": {
        "id": "Fq0OJE24e3NP"
      },
      "execution_count": 72,
      "outputs": []
    },
    {
      "cell_type": "code",
      "source": [
        "squared_Dict(5)"
      ],
      "metadata": {
        "colab": {
          "base_uri": "https://localhost:8080/"
        },
        "id": "oh1GZqrMe8TS",
        "outputId": "c1992c34-57c4-4ab2-aeed-bf236db8500c"
      },
      "execution_count": 73,
      "outputs": [
        {
          "output_type": "execute_result",
          "data": {
            "text/plain": [
              "{1: 1, 2: 4, 3: 9, 4: 16, 5: 25}"
            ]
          },
          "metadata": {},
          "execution_count": 73
        }
      ]
    },
    {
      "cell_type": "code",
      "source": [
        "#  Finding the maximum value in a list\n",
        "max_value = lambda x:max(x)"
      ],
      "metadata": {
        "id": "H_WFHou1fDXM"
      },
      "execution_count": 74,
      "outputs": []
    },
    {
      "cell_type": "code",
      "source": [
        "max_value([1,2,3,45,67,8])"
      ],
      "metadata": {
        "colab": {
          "base_uri": "https://localhost:8080/"
        },
        "id": "0QW4vCqZgddI",
        "outputId": "054c3940-4874-4e8d-9dda-9cd49e5f77c2"
      },
      "execution_count": 75,
      "outputs": [
        {
          "output_type": "execute_result",
          "data": {
            "text/plain": [
              "67"
            ]
          },
          "metadata": {},
          "execution_count": 75
        }
      ]
    },
    {
      "cell_type": "markdown",
      "source": [
        "#**Map ,Reduce,filter**"
      ],
      "metadata": {
        "id": "P8djYV7Dgkq8"
      }
    },
    {
      "cell_type": "markdown",
      "source": [
        "## map always ek function lega aur ushka logic implement karega"
      ],
      "metadata": {
        "id": "ZgluCvGDhwGx"
      }
    },
    {
      "cell_type": "code",
      "source": [
        "def squared_num(n):\n",
        "  return n**2"
      ],
      "metadata": {
        "id": "V44yW9yjgpNB"
      },
      "execution_count": 76,
      "outputs": []
    },
    {
      "cell_type": "code",
      "source": [
        "num=[1,2,3,4,5]"
      ],
      "metadata": {
        "id": "FfrBA9SghHyo"
      },
      "execution_count": 78,
      "outputs": []
    },
    {
      "cell_type": "code",
      "source": [
        "list(map(squared_num,num))"
      ],
      "metadata": {
        "colab": {
          "base_uri": "https://localhost:8080/"
        },
        "id": "MULDy67shMV9",
        "outputId": "30557e2f-1334-4c5f-bdf1-3d2759dc5a5a"
      },
      "execution_count": 80,
      "outputs": [
        {
          "output_type": "execute_result",
          "data": {
            "text/plain": [
              "[1, 4, 9, 16, 25]"
            ]
          },
          "metadata": {},
          "execution_count": 80
        }
      ]
    },
    {
      "cell_type": "markdown",
      "source": [
        "## **Filter**"
      ],
      "metadata": {
        "id": "8mdx17pAjam0"
      }
    },
    {
      "cell_type": "code",
      "source": [
        "## Filter in python\n",
        "numbers = [1,2,3,4,5,6,7]\n",
        "even_number=list(filter(lambda x:x%2==0,numbers))"
      ],
      "metadata": {
        "id": "P0cRtmcmhZrf"
      },
      "execution_count": 83,
      "outputs": []
    },
    {
      "cell_type": "code",
      "source": [
        "even_number"
      ],
      "metadata": {
        "colab": {
          "base_uri": "https://localhost:8080/"
        },
        "id": "fh-0v5ytih4T",
        "outputId": "c6cff34d-39d8-470b-8a67-9f32c1d7fc28"
      },
      "execution_count": 84,
      "outputs": [
        {
          "output_type": "execute_result",
          "data": {
            "text/plain": [
              "[2, 4, 6]"
            ]
          },
          "metadata": {},
          "execution_count": 84
        }
      ]
    },
    {
      "cell_type": "markdown",
      "source": [
        "# **Reduce**"
      ],
      "metadata": {
        "id": "G32pfDJNjjfG"
      }
    },
    {
      "cell_type": "code",
      "source": [
        "# Reducing a list of numbers to their sum\n",
        "from functools import reduce\n",
        "l1=[1,2,3,4,5]\n",
        "sum_of_list=reduce(lambda x,y:x+y,l1)\n",
        "sum_of_list"
      ],
      "metadata": {
        "colab": {
          "base_uri": "https://localhost:8080/"
        },
        "id": "lgBs8kfjirBj",
        "outputId": "7509b42f-7486-4a63-ccc7-d456fb4115bd"
      },
      "execution_count": 85,
      "outputs": [
        {
          "output_type": "execute_result",
          "data": {
            "text/plain": [
              "15"
            ]
          },
          "metadata": {},
          "execution_count": 85
        }
      ]
    },
    {
      "cell_type": "code",
      "source": [
        "# Mapping a list of strings to their lengths\n",
        "string=[\"Gaurav\",\"Mannu\",\"Singh\"]\n",
        "str_length=list(map(lambda s:len(s),string))\n",
        "str_length"
      ],
      "metadata": {
        "colab": {
          "base_uri": "https://localhost:8080/"
        },
        "id": "hJcTvJfyjV1p",
        "outputId": "189833a8-4456-40ce-b41d-617c0ea5af83"
      },
      "execution_count": 89,
      "outputs": [
        {
          "output_type": "execute_result",
          "data": {
            "text/plain": [
              "[6, 5, 5]"
            ]
          },
          "metadata": {},
          "execution_count": 89
        }
      ]
    },
    {
      "cell_type": "code",
      "source": [
        "# Filtering words starting with 'a' from a list\n",
        "words = ['apple', 'banana', 'avocado', 'cherry']\n",
        "filtered_word=list(filter(lambda x:x[0]=='a',words))"
      ],
      "metadata": {
        "id": "YtAgY-vNkZmi"
      },
      "execution_count": 94,
      "outputs": []
    },
    {
      "cell_type": "code",
      "source": [
        "filtered_word"
      ],
      "metadata": {
        "colab": {
          "base_uri": "https://localhost:8080/"
        },
        "id": "h9wqfnjJlelO",
        "outputId": "f9afd5f2-6cf9-4cb5-83ba-b468bbe70a9b"
      },
      "execution_count": 95,
      "outputs": [
        {
          "output_type": "execute_result",
          "data": {
            "text/plain": [
              "['apple', 'avocado']"
            ]
          },
          "metadata": {},
          "execution_count": 95
        }
      ]
    },
    {
      "cell_type": "code",
      "source": [
        "# Reducing a list of numbers to their product\n",
        "numbers = [1, 2, 3, 4, 5]\n",
        "product=reduce(lambda x,y:x*y,numbers)"
      ],
      "metadata": {
        "id": "nEsQDrewlqSc"
      },
      "execution_count": 98,
      "outputs": []
    },
    {
      "cell_type": "code",
      "source": [
        "product"
      ],
      "metadata": {
        "colab": {
          "base_uri": "https://localhost:8080/"
        },
        "id": "njRfohRCmDP_",
        "outputId": "56cd3c4e-aa29-4175-f6c1-e46fa1d5ff7e"
      },
      "execution_count": 99,
      "outputs": [
        {
          "output_type": "execute_result",
          "data": {
            "text/plain": [
              "120"
            ]
          },
          "metadata": {},
          "execution_count": 99
        }
      ]
    },
    {
      "cell_type": "code",
      "source": [
        "# Mapping a list of strings to uppercase\n",
        "strings = ['hello', 'world']\n",
        "upper_case=list(map(lambda x:x.upper(),strings))"
      ],
      "metadata": {
        "id": "3v_EKvHomX56"
      },
      "execution_count": 101,
      "outputs": []
    },
    {
      "cell_type": "code",
      "source": [
        "upper_case"
      ],
      "metadata": {
        "colab": {
          "base_uri": "https://localhost:8080/"
        },
        "id": "uvQqjhxfmxTY",
        "outputId": "57d002db-cd2f-408c-b8e6-530284bcf698"
      },
      "execution_count": 102,
      "outputs": [
        {
          "output_type": "execute_result",
          "data": {
            "text/plain": [
              "['HELLO', 'WORLD']"
            ]
          },
          "metadata": {},
          "execution_count": 102
        }
      ]
    },
    {
      "cell_type": "code",
      "source": [
        "# Filtering numbers greater than 10 from a list\n",
        "numbers = [5, 15, 8, 12, 3]\n",
        "greater_than=list(filter(lambda x:x>10,numbers))"
      ],
      "metadata": {
        "id": "8Eht3m3fm3ml"
      },
      "execution_count": 107,
      "outputs": []
    },
    {
      "cell_type": "code",
      "source": [
        "greater_than"
      ],
      "metadata": {
        "colab": {
          "base_uri": "https://localhost:8080/"
        },
        "id": "89nRDW0QnIMJ",
        "outputId": "23955da3-462f-47b8-bb90-7a1c595c6ed7"
      },
      "execution_count": 108,
      "outputs": [
        {
          "output_type": "execute_result",
          "data": {
            "text/plain": [
              "[15, 12]"
            ]
          },
          "metadata": {},
          "execution_count": 108
        }
      ]
    },
    {
      "cell_type": "code",
      "source": [
        "#Reducing a list of strings to their concatenated form\n",
        "from functools import reduce\n",
        "strings = ['Hello', ' ', 'World', '!']\n",
        "conacat_str=reduce(lambda x,y:x+y,strings)\n",
        "conacat_str"
      ],
      "metadata": {
        "colab": {
          "base_uri": "https://localhost:8080/",
          "height": 36
        },
        "id": "emVeua-2nKMY",
        "outputId": "8066b75f-7416-4b82-d55c-9ef722e80fb5"
      },
      "execution_count": 110,
      "outputs": [
        {
          "output_type": "execute_result",
          "data": {
            "text/plain": [
              "'Hello World!'"
            ],
            "application/vnd.google.colaboratory.intrinsic+json": {
              "type": "string"
            }
          },
          "metadata": {},
          "execution_count": 110
        }
      ]
    },
    {
      "cell_type": "code",
      "source": [
        "# 10. Mapping a list of numbers to their negative values\n",
        "numbers = [1, 2, 3, 4, 5]\n",
        "negative_value=list(map(lambda x:-x,numbers))\n",
        "negative_value"
      ],
      "metadata": {
        "colab": {
          "base_uri": "https://localhost:8080/"
        },
        "id": "yrj81nu2zAhh",
        "outputId": "fcfdd3c6-fbfb-40c9-ae1a-cd19cc02483d"
      },
      "execution_count": 113,
      "outputs": [
        {
          "output_type": "execute_result",
          "data": {
            "text/plain": [
              "[-1, -2, -3, -4, -5]"
            ]
          },
          "metadata": {},
          "execution_count": 113
        }
      ]
    },
    {
      "cell_type": "markdown",
      "source": [
        "Scenario:\n",
        "You are developing a program to process online store orders. Each order contains information about the customer, the items purchased, and additional details. You need to create a set of functions to handle different aspects of order processing."
      ],
      "metadata": {
        "id": "73N4DvkozoF4"
      }
    },
    {
      "cell_type": "code",
      "source": [
        "# Function to process the customer's personal information\n",
        "def process_customer_info(name, email, **kwargs):\n",
        "    print(f\"Processing customer information for {name}\")\n",
        "    print(f\"Email: {email}\")\n",
        "    print(\"Additional information:\")\n",
        "    for key, value in kwargs.items():\n",
        "        print(f\"{key}: {value}\")\n",
        "    print()\n",
        "\n",
        "# Function to process the items in the order\n",
        "def process_order_items(*args):\n",
        "    print(\"Processing order items:\")\n",
        "    for item in args:\n",
        "        print(f\"- {item}\")\n",
        "    print()\n",
        "\n",
        "# Function to calculate the total order amount\n",
        "def calculate_total_amount(*args):\n",
        "    total = 0\n",
        "    for arg in args:\n",
        "        if isinstance(arg, (int, float)):\n",
        "            total += arg\n",
        "        else:\n",
        "            print(f\"Invalid item price: {arg}\")\n",
        "    return total\n",
        "\n",
        "# Function to process the order and generate a receipt\n",
        "def process_order(customer_info, *items, **kwargs):\n",
        "    print(\"Order processing initiated.\")\n",
        "    process_customer_info(**customer_info)\n",
        "    process_order_items(*items)\n",
        "    item_prices = kwargs.get(\"item_prices\", ())  # Retrieve the item prices\n",
        "    total_amount = calculate_total_amount(*item_prices)\n",
        "    print(f\"Total Amount: ${total_amount:.2f}\")\n",
        "    print(\"Order processed successfully.\")\n",
        "    print(\"--- Receipt ---\")\n",
        "    print(f\"Customer: {customer_info['name']}\")\n",
        "    print(\"Items:\")\n",
        "    for item in items:\n",
        "        print(f\"- {item}\")\n",
        "    print(f\"Total Amount: ${total_amount:.2f}\")\n",
        "    print(\"Thank you for shopping with us!\")\n",
        "\n",
        ""
      ],
      "metadata": {
        "id": "iqdhH1ZizTf5"
      },
      "execution_count": 127,
      "outputs": []
    },
    {
      "cell_type": "code",
      "source": [
        "customer_info = {\n",
        "    \"name\": \"Alice\",\n",
        "    \"email\": \"alice@example.com\",\n",
        "    \"phone\": \"1234567890\"\n",
        "}\n",
        "\n",
        "items = (\"Shirt\", \"Jeans\", \"Shoes\")\n",
        "\n",
        "order_details = {\n",
        "    \"shipping_address\": \"123 Main St\",\n",
        "    \"payment_method\": \"Credit Card\",\n",
        "    \"item_prices\": (15.99, 29.99, 49.9)  # Separate key for item prices\n",
        "}\n",
        "\n",
        "process_order(customer_info, *items, **order_details)\n"
      ],
      "metadata": {
        "colab": {
          "base_uri": "https://localhost:8080/"
        },
        "id": "a2Umqpkk6wzG",
        "outputId": "def4c8f7-0f86-4758-8732-407131d66fa6"
      },
      "execution_count": 128,
      "outputs": [
        {
          "output_type": "stream",
          "name": "stdout",
          "text": [
            "Order processing initiated.\n",
            "Processing customer information for Alice\n",
            "Email: alice@example.com\n",
            "Additional information:\n",
            "phone: 1234567890\n",
            "\n",
            "Processing order items:\n",
            "- Shirt\n",
            "- Jeans\n",
            "- Shoes\n",
            "\n",
            "Total Amount: $95.88\n",
            "Order processed successfully.\n",
            "--- Receipt ---\n",
            "Customer: Alice\n",
            "Items:\n",
            "- Shirt\n",
            "- Jeans\n",
            "- Shoes\n",
            "Total Amount: $95.88\n",
            "Thank you for shopping with us!\n"
          ]
        }
      ]
    },
    {
      "cell_type": "markdown",
      "source": [
        "# *kargs -Kargs hm tab use karte hai jb hum ko output key:value ke pair me chahiye aur hmko jb key:value pair ke baare me bhi nhi pata ho"
      ],
      "metadata": {
        "id": "sqnuiOwZ181c"
      }
    }
  ]
}